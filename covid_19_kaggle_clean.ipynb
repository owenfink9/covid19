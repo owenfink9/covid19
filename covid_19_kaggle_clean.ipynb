{
  "cells": [
    {
      "cell_type": "markdown",
      "metadata": {
        "id": "view-in-github",
        "colab_type": "text"
      },
      "source": [
        "<a href=\"https://colab.research.google.com/github/owenfink9/covid19/blob/master/covid_19_kaggle_clean.ipynb\" target=\"_parent\"><img src=\"https://colab.research.google.com/assets/colab-badge.svg\" alt=\"Open In Colab\"/></a>"
      ]
    },
    {
      "cell_type": "markdown",
      "id": "written-buffalo",
      "metadata": {
        "id": "written-buffalo"
      },
      "source": [
        "# 0. Load Data"
      ]
    },
    {
      "cell_type": "code",
      "execution_count": 1,
      "id": "occupational-copper",
      "metadata": {
        "id": "occupational-copper"
      },
      "outputs": [],
      "source": [
        "import numpy as np\n",
        "import pandas as pd\n",
        "import matplotlib.pyplot as plt"
      ]
    },
    {
      "cell_type": "code",
      "execution_count": 2,
      "id": "regional-contact",
      "metadata": {
        "id": "regional-contact"
      },
      "outputs": [],
      "source": [
        "np.set_printoptions(suppress=True)"
      ]
    },
    {
      "cell_type": "code",
      "source": [
        "from google.colab import files\n",
        "uploaded = files.upload()"
      ],
      "metadata": {
        "id": "yGa17rt40dRO",
        "outputId": "1c3a05af-f589-4f90-e941-59e377498a8d",
        "colab": {
          "resources": {
            "http://localhost:8080/nbextensions/google.colab/files.js": {
              "data": "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",
              "ok": true,
              "headers": [
                [
                  "content-type",
                  "application/javascript"
                ]
              ],
              "status": 200,
              "status_text": ""
            }
          },
          "base_uri": "https://localhost:8080/",
          "height": 73
        }
      },
      "id": "yGa17rt40dRO",
      "execution_count": 3,
      "outputs": [
        {
          "output_type": "display_data",
          "data": {
            "text/plain": [
              "<IPython.core.display.HTML object>"
            ],
            "text/html": [
              "\n",
              "     <input type=\"file\" id=\"files-50e1c496-1c81-4105-8cdb-de4f33bc9d76\" name=\"files[]\" multiple disabled\n",
              "        style=\"border:none\" />\n",
              "     <output id=\"result-50e1c496-1c81-4105-8cdb-de4f33bc9d76\">\n",
              "      Upload widget is only available when the cell has been executed in the\n",
              "      current browser session. Please rerun this cell to enable.\n",
              "      </output>\n",
              "      <script src=\"/nbextensions/google.colab/files.js\"></script> "
            ]
          },
          "metadata": {}
        },
        {
          "output_type": "stream",
          "name": "stdout",
          "text": [
            "Saving covid_kaggle.xlsx to covid_kaggle.xlsx\n"
          ]
        }
      ]
    },
    {
      "cell_type": "code",
      "execution_count": 4,
      "id": "alert-lyric",
      "metadata": {
        "id": "alert-lyric"
      },
      "outputs": [],
      "source": [
        "covid = pd.read_excel(\"covid_kaggle.xlsx\")"
      ]
    },
    {
      "cell_type": "code",
      "execution_count": 5,
      "id": "trained-water",
      "metadata": {
        "scrolled": true,
        "id": "trained-water",
        "outputId": "f7392437-cf36-45a5-fa23-1120b5ca0e99",
        "colab": {
          "base_uri": "https://localhost:8080/"
        }
      },
      "outputs": [
        {
          "output_type": "execute_result",
          "data": {
            "text/plain": [
              "(5644, 111)"
            ]
          },
          "metadata": {},
          "execution_count": 5
        }
      ],
      "source": [
        "covid.shape"
      ]
    },
    {
      "cell_type": "markdown",
      "id": "forced-geometry",
      "metadata": {
        "id": "forced-geometry"
      },
      "source": [
        "# 1. Data Wash"
      ]
    },
    {
      "cell_type": "markdown",
      "id": "described-prevention",
      "metadata": {
        "id": "described-prevention"
      },
      "source": [
        "Remove test results for other viruses, we'd like to predict the SARS-Cov-2 test result."
      ]
    },
    {
      "cell_type": "code",
      "execution_count": 6,
      "id": "ancient-housing",
      "metadata": {
        "id": "ancient-housing"
      },
      "outputs": [],
      "source": [
        "covid = covid.drop(['Respiratory Syncytial Virus', 'Influenza A', 'Influenza B', 'Parainfluenza 1', 'CoronavirusNL63', 'Parainfluenza 1', 'Chlamydophila pneumoniae', 'Adenovirus', 'Parainfluenza 4', 'Coronavirus229E', 'CoronavirusOC43', 'Inf A H1N1 2009', 'Bordetella pertussis', 'Metapneumovirus', 'Rhinovirus/Enterovirus', 'Coronavirus HKU1', 'Parainfluenza 3', 'Influenza B, rapid test', 'Influenza A, rapid test'], axis=1)"
      ]
    },
    {
      "cell_type": "markdown",
      "id": "exclusive-crash",
      "metadata": {
        "id": "exclusive-crash"
      },
      "source": [
        "Remove irrelvalent Features including patients ID and patients intention to the ward level."
      ]
    },
    {
      "cell_type": "code",
      "execution_count": 7,
      "id": "realistic-round",
      "metadata": {
        "id": "realistic-round"
      },
      "outputs": [],
      "source": [
        "covid = covid.drop(['Patient ID', 'Patient addmited to regular ward (1=yes, 0=no)', 'Patient addmited to semi-intensive unit (1=yes, 0=no)', 'Patient addmited to intensive care unit (1=yes, 0=no)'], axis=1)"
      ]
    },
    {
      "cell_type": "markdown",
      "id": "sonic-magnitude",
      "metadata": {
        "id": "sonic-magnitude"
      },
      "source": [
        "Less than 100 patients among 5644 took urine tests."
      ]
    },
    {
      "cell_type": "code",
      "execution_count": 8,
      "id": "appreciated-system",
      "metadata": {
        "id": "appreciated-system"
      },
      "outputs": [],
      "source": [
        "urine_features = ['Urine - Esterase', 'Urine - Aspect', 'Urine - pH', 'Urine - Hemoglobin', 'Urine - Bile pigments', 'Urine - Ketone Bodies', 'Urine - Nitrite', 'Urine - Density', 'Urine - Urobilinogen', 'Urine - Protein', 'Urine - Sugar', 'Urine - Leukocytes', 'Urine - Crystals', 'Urine - Red blood cells', 'Urine - Hyaline cylinders', 'Urine - Granular cylinders', 'Urine - Yeasts', 'Urine - Color']"
      ]
    },
    {
      "cell_type": "code",
      "execution_count": 9,
      "id": "automatic-bedroom",
      "metadata": {
        "id": "automatic-bedroom"
      },
      "outputs": [],
      "source": [
        "covid = covid.drop(urine_features, axis=1)"
      ]
    },
    {
      "cell_type": "markdown",
      "id": "refined-river",
      "metadata": {
        "id": "refined-river"
      },
      "source": [
        "Less than 100 patients among 5644 took aerial blood gas tests."
      ]
    },
    {
      "cell_type": "code",
      "execution_count": 10,
      "id": "caroline-intermediate",
      "metadata": {
        "id": "caroline-intermediate"
      },
      "outputs": [],
      "source": [
        "arterial_blood_gas_features = ['Hb saturation (arterial blood gases)', 'pCO2 (arterial blood gas analysis)', 'Base excess (arterial blood gas analysis)', 'pH (arterial blood gas analysis)', 'Total CO2 (arterial blood gas analysis)', 'HCO3 (arterial blood gas analysis)', 'pO2 (arterial blood gas analysis)', 'Arteiral Fio2', 'Phosphor', 'ctO2 (arterial blood gas analysis)']"
      ]
    },
    {
      "cell_type": "code",
      "execution_count": 11,
      "id": "valued-genetics",
      "metadata": {
        "id": "valued-genetics"
      },
      "outputs": [],
      "source": [
        "covid = covid.drop(arterial_blood_gas_features, axis=1)"
      ]
    },
    {
      "cell_type": "markdown",
      "id": "compressed-invasion",
      "metadata": {
        "id": "compressed-invasion"
      },
      "source": [
        "Reamove features containing less than 100 patients' records"
      ]
    },
    {
      "cell_type": "code",
      "execution_count": 12,
      "id": "stock-conclusion",
      "metadata": {
        "scrolled": true,
        "id": "stock-conclusion",
        "outputId": "2c4540db-dfd0-450c-b694-20e3bfbf4023",
        "colab": {
          "base_uri": "https://localhost:8080/"
        }
      },
      "outputs": [
        {
          "output_type": "stream",
          "name": "stdout",
          "text": [
            "Mycoplasma pneumoniae 0\n",
            "Ionized calcium  50\n",
            "Magnesium 40\n",
            "Fio2 (venous blood gas analysis) 1\n",
            "Rods # 97\n",
            "Segmented 97\n",
            "Promyelocytes 97\n",
            "Metamyelocytes 97\n",
            "Myelocytes 97\n",
            "Myeloblasts 97\n",
            "Partial thromboplastin time (PTT)  0\n",
            "Relationship (Patient/Normal) 91\n",
            "Prothrombin time (PT), Activity 0\n",
            "Vitamin B12 3\n",
            "Ferritin 23\n",
            "Arterial Lactic Acid 27\n",
            "Lipase dosage 8\n",
            "D-Dimer 0\n",
            "Albumin 13\n"
          ]
        }
      ],
      "source": [
        "i = 0\n",
        "for column in covid:\n",
        "    if (covid[column].count() < 100):\n",
        "        print(column, covid[column].count())\n",
        "        covid = covid.drop(column, axis=1)"
      ]
    },
    {
      "cell_type": "markdown",
      "id": "black-working",
      "metadata": {
        "id": "black-working"
      },
      "source": [
        "Drop constant features"
      ]
    },
    {
      "cell_type": "code",
      "execution_count": 13,
      "id": "executive-stylus",
      "metadata": {
        "id": "executive-stylus"
      },
      "outputs": [],
      "source": [
        "covid = covid.loc[:,covid.apply(pd.Series.nunique) != 1]"
      ]
    },
    {
      "cell_type": "markdown",
      "id": "dense-verse",
      "metadata": {
        "id": "dense-verse"
      },
      "source": [
        "Drop features has least patients' records"
      ]
    },
    {
      "cell_type": "code",
      "execution_count": 14,
      "id": "infrared-malpractice",
      "metadata": {
        "id": "infrared-malpractice"
      },
      "outputs": [],
      "source": [
        "features = list(covid.columns)\n",
        "sorted_features = [x for _,x in sorted(zip(covid[features].count(), features))]"
      ]
    },
    {
      "cell_type": "code",
      "execution_count": 15,
      "id": "excess-incidence",
      "metadata": {
        "scrolled": true,
        "id": "excess-incidence"
      },
      "outputs": [],
      "source": [
        "# [ [covid.columns.get_loc(c), c] for c in sorted_features if c in covid]"
      ]
    },
    {
      "cell_type": "markdown",
      "id": "breeding-queue",
      "metadata": {
        "id": "breeding-queue"
      },
      "source": [
        "Now all features contain at least 100 patients' record"
      ]
    },
    {
      "cell_type": "code",
      "execution_count": 16,
      "id": "experimental-french",
      "metadata": {
        "id": "experimental-french",
        "outputId": "79fa3377-0ac6-45a5-c358-c65ba88daa87",
        "colab": {
          "base_uri": "https://localhost:8080/"
        }
      },
      "outputs": [
        {
          "output_type": "stream",
          "name": "stdout",
          "text": [
            "SARS-Cov-2 exam result 5644\n",
            "Patient age quantile 5644\n",
            "Hemoglobin 603\n",
            "Hematocrit 603\n",
            "Red blood cell distribution width (RDW) 602\n",
            "Red blood Cells 602\n",
            "Platelets 602\n",
            "Mean corpuscular volume (MCV) 602\n",
            "Mean corpuscular hemoglobin concentration (MCHC) 602\n",
            "Mean corpuscular hemoglobin (MCH) 602\n",
            "Lymphocytes 602\n",
            "Leukocytes 602\n",
            "Eosinophils 602\n",
            "Basophils 602\n",
            "Monocytes 601\n",
            "Mean platelet volume  599\n",
            "Neutrophils 513\n",
            "Proteina C reativa mg/dL 506\n",
            "Creatinine 424\n",
            "Urea 397\n",
            "Potassium 371\n",
            "Sodium 370\n",
            "Strepto A 332\n",
            "Aspartate transaminase 226\n",
            "Alanine transaminase 225\n",
            "Serum Glucose 208\n",
            "Total Bilirubin 182\n",
            "Indirect Bilirubin 182\n",
            "Direct Bilirubin 182\n",
            "Gamma-glutamyltransferase  153\n",
            "Alkaline phosphatase 144\n",
            "pO2 (venous blood gas analysis) 136\n",
            "pH (venous blood gas analysis) 136\n",
            "pCO2 (venous blood gas analysis) 136\n",
            "Total CO2 (venous blood gas analysis) 136\n",
            "Hb saturation (venous blood gas analysis) 136\n",
            "HCO3 (venous blood gas analysis) 136\n",
            "Base excess (venous blood gas analysis) 136\n",
            "International normalized ratio (INR) 133\n",
            "Creatine phosphokinase (CPK)  104\n",
            "Lactic Dehydrogenase 101\n"
          ]
        }
      ],
      "source": [
        "covid_init = covid[sorted_features[-1]]\n",
        "for i in reversed(range(0, len(sorted_features))):\n",
        "    print(sorted_features[i], covid[sorted_features[i]].count())"
      ]
    },
    {
      "cell_type": "code",
      "execution_count": 17,
      "id": "operational-gilbert",
      "metadata": {
        "id": "operational-gilbert"
      },
      "outputs": [],
      "source": [
        "removed_features = ['Lactic Dehydrogenase', 'Creatine phosphokinase\\xa0(CPK)\\xa0', 'International normalized ratio (INR)', 'Base excess (venous blood gas analysis)', 'HCO3 (venous blood gas analysis)', 'Hb saturation (venous blood gas analysis)', 'Total CO2 (venous blood gas analysis)', 'pCO2 (venous blood gas analysis)', 'pH (venous blood gas analysis)', 'pO2 (venous blood gas analysis)', 'Alkaline phosphatase', 'Gamma-glutamyltransferase\\xa0', 'Direct Bilirubin', 'Indirect Bilirubin', 'Total Bilirubin', 'Serum Glucose', 'Alanine transaminase', 'Aspartate transaminase', 'Strepto A', 'Sodium', 'Potassium', 'Urea', 'Creatinine']"
      ]
    },
    {
      "cell_type": "code",
      "execution_count": 18,
      "id": "passing-situation",
      "metadata": {
        "id": "passing-situation"
      },
      "outputs": [],
      "source": [
        "covid = covid.drop(removed_features, axis=1)"
      ]
    },
    {
      "cell_type": "code",
      "source": [
        "covid.shape"
      ],
      "metadata": {
        "colab": {
          "base_uri": "https://localhost:8080/"
        },
        "id": "NT4KFfLaJL_J",
        "outputId": "872183d6-5b3f-4303-e4ef-b444e832a254"
      },
      "id": "NT4KFfLaJL_J",
      "execution_count": 19,
      "outputs": [
        {
          "output_type": "execute_result",
          "data": {
            "text/plain": [
              "(5644, 18)"
            ]
          },
          "metadata": {},
          "execution_count": 19
        }
      ]
    },
    {
      "cell_type": "markdown",
      "id": "convinced-kitchen",
      "metadata": {
        "id": "convinced-kitchen"
      },
      "source": [
        "Drop patients that have less than 10 records"
      ]
    },
    {
      "cell_type": "code",
      "execution_count": 20,
      "id": "unexpected-overhead",
      "metadata": {
        "id": "unexpected-overhead"
      },
      "outputs": [],
      "source": [
        "for index, row in covid.iterrows():\n",
        "    if row.count() < 10:\n",
        "        covid.drop(index, inplace=True)"
      ]
    },
    {
      "cell_type": "markdown",
      "id": "tested-creature",
      "metadata": {
        "id": "tested-creature"
      },
      "source": [
        "Now we have more than 500 records"
      ]
    },
    {
      "cell_type": "code",
      "execution_count": 21,
      "id": "existing-ordinary",
      "metadata": {
        "id": "existing-ordinary",
        "outputId": "a86094d9-1fde-4615-e2a9-fb637cebd81c",
        "colab": {
          "base_uri": "https://localhost:8080/"
        }
      },
      "outputs": [
        {
          "output_type": "stream",
          "name": "stdout",
          "text": [
            "SARS-Cov-2 exam result 602\n",
            "Red blood cell distribution width (RDW) 602\n",
            "Red blood Cells 602\n",
            "Platelets 602\n",
            "Patient age quantile 602\n",
            "Mean corpuscular volume (MCV) 602\n",
            "Mean corpuscular hemoglobin concentration (MCHC) 602\n",
            "Mean corpuscular hemoglobin (MCH) 602\n",
            "Lymphocytes 602\n",
            "Leukocytes 602\n",
            "Hemoglobin 602\n",
            "Hematocrit 602\n",
            "Eosinophils 602\n",
            "Basophils 602\n",
            "Monocytes 601\n",
            "Mean platelet volume  599\n",
            "Neutrophils 513\n",
            "Proteina C reativa mg/dL 502\n"
          ]
        }
      ],
      "source": [
        "features = list(covid.columns)\n",
        "sorted_features = [x for _,x in sorted(zip(covid[features].count(), features))]\n",
        "for i in reversed(range(0, len(sorted_features))):\n",
        "    print(sorted_features[i], covid[sorted_features[i]].count())"
      ]
    },
    {
      "cell_type": "markdown",
      "id": "apparent-spoke",
      "metadata": {
        "id": "apparent-spoke"
      },
      "source": [
        "Drop NaN"
      ]
    },
    {
      "cell_type": "code",
      "execution_count": 22,
      "id": "closed-session",
      "metadata": {
        "id": "closed-session"
      },
      "outputs": [],
      "source": [
        "covid = covid.dropna()"
      ]
    },
    {
      "cell_type": "markdown",
      "id": "convenient-hungarian",
      "metadata": {
        "id": "convenient-hungarian"
      },
      "source": [
        "Map classification string to 0-1"
      ]
    },
    {
      "cell_type": "code",
      "execution_count": 23,
      "id": "rapid-joint",
      "metadata": {
        "id": "rapid-joint"
      },
      "outputs": [],
      "source": [
        "covid['SARS-Cov-2 exam result'] = covid['SARS-Cov-2 exam result'].map({'positive': 1, 'negative': 0})"
      ]
    },
    {
      "cell_type": "code",
      "execution_count": 24,
      "id": "exact-draft",
      "metadata": {
        "id": "exact-draft",
        "outputId": "89a20500-c69d-428b-a4b6-09b9ff991db5",
        "colab": {
          "base_uri": "https://localhost:8080/"
        }
      },
      "outputs": [
        {
          "output_type": "execute_result",
          "data": {
            "text/plain": [
              "(420, 18)"
            ]
          },
          "metadata": {},
          "execution_count": 24
        }
      ],
      "source": [
        "covid.shape"
      ]
    },
    {
      "cell_type": "markdown",
      "id": "significant-filter",
      "metadata": {
        "id": "significant-filter"
      },
      "source": [
        "# 2. Train test split"
      ]
    },
    {
      "cell_type": "code",
      "execution_count": 96,
      "id": "functioning-partnership",
      "metadata": {
        "id": "functioning-partnership"
      },
      "outputs": [],
      "source": [
        "from sklearn import preprocessing\n",
        "from sklearn.model_selection import train_test_split"
      ]
    },
    {
      "cell_type": "code",
      "execution_count": 99,
      "id": "committed-breeding",
      "metadata": {
        "id": "committed-breeding"
      },
      "outputs": [],
      "source": [
        "y = covid[\"SARS-Cov-2 exam result\"].to_numpy()"
      ]
    },
    {
      "cell_type": "code",
      "execution_count": 100,
      "id": "phantom-pixel",
      "metadata": {
        "id": "phantom-pixel"
      },
      "outputs": [],
      "source": [
        "X = covid\n",
        "X = X.drop([\"SARS-Cov-2 exam result\"], axis=1)\n",
        "X_train, X_test, y_train, y_test = train_test_split(X, y, train_size = 0.8, random_state = 1)"
      ]
    },
    {
      "cell_type": "code",
      "execution_count": 101,
      "id": "previous-lover",
      "metadata": {
        "id": "previous-lover",
        "outputId": "8c9f4efd-9a32-4432-f7a3-637dbb38aafb",
        "colab": {
          "base_uri": "https://localhost:8080/"
        }
      },
      "outputs": [
        {
          "output_type": "execute_result",
          "data": {
            "text/plain": [
              "(336, 17)"
            ]
          },
          "metadata": {},
          "execution_count": 101
        }
      ],
      "source": [
        "X_train.shape"
      ]
    },
    {
      "cell_type": "code",
      "execution_count": 102,
      "id": "boxed-duncan",
      "metadata": {
        "scrolled": true,
        "id": "boxed-duncan",
        "outputId": "e7013054-6782-468e-ef41-3096f2dade1c",
        "colab": {
          "base_uri": "https://localhost:8080/"
        }
      },
      "outputs": [
        {
          "output_type": "execute_result",
          "data": {
            "text/plain": [
              "(84, 17)"
            ]
          },
          "metadata": {},
          "execution_count": 102
        }
      ],
      "source": [
        "X_test.shape"
      ]
    },
    {
      "cell_type": "code",
      "source": [
        "y_test"
      ],
      "metadata": {
        "colab": {
          "base_uri": "https://localhost:8080/"
        },
        "id": "pA3t5761I5YD",
        "outputId": "2537b86e-2bae-49ca-9a3a-5afc2878706e"
      },
      "id": "pA3t5761I5YD",
      "execution_count": 103,
      "outputs": [
        {
          "output_type": "execute_result",
          "data": {
            "text/plain": [
              "array([1, 0, 0, 0, 0, 0, 1, 1, 0, 0, 0, 0, 0, 1, 0, 0, 0, 0, 0, 0, 0, 1,\n",
              "       0, 0, 0, 0, 1, 0, 0, 0, 0, 0, 1, 0, 1, 0, 0, 0, 0, 0, 0, 0, 0, 0,\n",
              "       0, 0, 0, 0, 0, 0, 0, 0, 0, 0, 0, 0, 0, 0, 0, 1, 0, 0, 0, 0, 0, 0,\n",
              "       0, 0, 0, 0, 0, 0, 0, 0, 0, 0, 0, 0, 0, 0, 0, 0, 0, 0])"
            ]
          },
          "metadata": {},
          "execution_count": 103
        }
      ]
    },
    {
      "cell_type": "code",
      "execution_count": 104,
      "id": "sunrise-couple",
      "metadata": {
        "id": "sunrise-couple",
        "outputId": "bd7cb1c7-76f0-4255-d412-537d01d14756",
        "colab": {
          "base_uri": "https://localhost:8080/"
        }
      },
      "outputs": [
        {
          "output_type": "stream",
          "name": "stdout",
          "text": [
            "9 positive among 84 patients\n"
          ]
        }
      ],
      "source": [
        "print(np.sum(y_test), \"positive among\", len(y_test), 'patients')"
      ]
    },
    {
      "cell_type": "markdown",
      "metadata": {
        "id": "O_iArqcnQhfn"
      },
      "source": [
        "# SMOTE"
      ],
      "id": "O_iArqcnQhfn"
    },
    {
      "cell_type": "code",
      "source": [
        "from imblearn.over_sampling import SMOTE\n",
        "os = SMOTE(random_state=0)\n",
        "X_smote_train, y_smote_train = os.fit_resample(X_train, y_train)"
      ],
      "metadata": {
        "id": "02RYzYn4QmEd"
      },
      "id": "02RYzYn4QmEd",
      "execution_count": 105,
      "outputs": []
    },
    {
      "cell_type": "code",
      "source": [
        "print(np.sum(y_smote_train), \"positive among\", len(y_smote_train), 'patients')"
      ],
      "metadata": {
        "colab": {
          "base_uri": "https://localhost:8080/"
        },
        "id": "61nZszTZRIRP",
        "outputId": "43174e6e-0c59-4a9e-ffbe-3ad0479ed25d"
      },
      "id": "61nZszTZRIRP",
      "execution_count": 106,
      "outputs": [
        {
          "output_type": "stream",
          "name": "stdout",
          "text": [
            "286 positive among 572 patients\n"
          ]
        }
      ]
    },
    {
      "cell_type": "markdown",
      "id": "korean-brunei",
      "metadata": {
        "id": "korean-brunei"
      },
      "source": [
        "# 3. Feature Selection"
      ]
    },
    {
      "cell_type": "markdown",
      "id": "interior-concord",
      "metadata": {
        "id": "interior-concord"
      },
      "source": [
        "### 3.1 Basic Methods"
      ]
    },
    {
      "cell_type": "markdown",
      "id": "eleven-syria",
      "metadata": {
        "id": "eleven-syria"
      },
      "source": [
        "#### 3.1.1 Drop constant and Quasi-constant features"
      ]
    },
    {
      "cell_type": "code",
      "execution_count": 107,
      "id": "boring-drama",
      "metadata": {
        "id": "boring-drama"
      },
      "outputs": [],
      "source": [
        "from sklearn.feature_selection import VarianceThreshold"
      ]
    },
    {
      "cell_type": "code",
      "execution_count": 108,
      "id": "excess-honduras",
      "metadata": {
        "id": "excess-honduras"
      },
      "outputs": [],
      "source": [
        "def drop_features(X_train, X_test, threshhold):\n",
        "    sel = VarianceThreshold(threshold=threshhold)\n",
        "    sel.fit(X_train)\n",
        "    print(\"No. of constant features:\",\n",
        "        len([\n",
        "            x for x in X_train.columns\n",
        "            if x not in X_train.columns[sel.get_support()]\n",
        "        ])\n",
        "    )\n",
        "    constant_features = [x for x in X_train.columns if x not in X_train.columns[sel.get_support()]]\n",
        "\n",
        "    print(constant_features)\n",
        "    X_train.drop(labels=constant_features, axis=1, inplace=True)\n",
        "    X_test.drop(labels=constant_features, axis=1, inplace=True)"
      ]
    },
    {
      "cell_type": "code",
      "execution_count": 109,
      "id": "adequate-warning",
      "metadata": {
        "scrolled": true,
        "id": "adequate-warning",
        "outputId": "e00b3990-7472-4062-f494-cf0259ebd165",
        "colab": {
          "base_uri": "https://localhost:8080/"
        }
      },
      "outputs": [
        {
          "output_type": "stream",
          "name": "stdout",
          "text": [
            "No. of constant features: 0\n",
            "[]\n",
            "No. of constant features: 0\n",
            "[]\n"
          ]
        }
      ],
      "source": [
        "drop_features(X_train, X_test, 0.01)\n",
        "drop_features(X_smote_train, X_test, 0.01)"
      ]
    },
    {
      "cell_type": "markdown",
      "id": "assisted-terminal",
      "metadata": {
        "id": "assisted-terminal"
      },
      "source": [
        "#### 3.1.2 Drop Duplicated Features"
      ]
    },
    {
      "cell_type": "code",
      "execution_count": 110,
      "id": "responsible-rendering",
      "metadata": {
        "id": "responsible-rendering",
        "outputId": "67242d99-43c8-46d2-8346-067458ad58b0",
        "colab": {
          "base_uri": "https://localhost:8080/"
        }
      },
      "outputs": [
        {
          "output_type": "stream",
          "name": "stdout",
          "text": [
            "No. of Duplicated Features: 0\n",
            "[]\n"
          ]
        }
      ],
      "source": [
        "covid_t = covid.T\n",
        "print(\"No. of Duplicated Features:\", covid_t.duplicated().sum())\n",
        "print(covid_t[covid_t.duplicated()].index.values)"
      ]
    },
    {
      "cell_type": "markdown",
      "id": "agreed-snapshot",
      "metadata": {
        "id": "agreed-snapshot"
      },
      "source": [
        "### 3.2 Correlations"
      ]
    },
    {
      "cell_type": "code",
      "execution_count": 111,
      "id": "bearing-group",
      "metadata": {
        "id": "bearing-group",
        "outputId": "ab234f46-3a24-4a76-9fde-3a17d59b8cc6",
        "colab": {
          "base_uri": "https://localhost:8080/",
          "height": 0
        }
      },
      "outputs": [
        {
          "output_type": "execute_result",
          "data": {
            "text/plain": [
              "                            feature1                           feature2  \\\n",
              "0                         Hematocrit                         Hemoglobin   \n",
              "1                         Hemoglobin                         Hematocrit   \n",
              "2                        Neutrophils                        Lymphocytes   \n",
              "3                        Lymphocytes                        Neutrophils   \n",
              "4                    Red blood Cells                         Hematocrit   \n",
              "5                         Hematocrit                    Red blood Cells   \n",
              "6                    Red blood Cells                         Hemoglobin   \n",
              "7                         Hemoglobin                    Red blood Cells   \n",
              "8      Mean corpuscular volume (MCV)  Mean corpuscular hemoglobin (MCH)   \n",
              "9  Mean corpuscular hemoglobin (MCH)      Mean corpuscular volume (MCV)   \n",
              "\n",
              "       corr  \n",
              "0  0.967940  \n",
              "1  0.967940  \n",
              "2  0.931494  \n",
              "3  0.931494  \n",
              "4  0.913360  \n",
              "5  0.913360  \n",
              "6  0.888691  \n",
              "7  0.888691  \n",
              "8  0.860652  \n",
              "9  0.860652  "
            ],
            "text/html": [
              "\n",
              "  <div id=\"df-c6eff8c6-8072-4bca-bd1d-9fe9a892c6a9\">\n",
              "    <div class=\"colab-df-container\">\n",
              "      <div>\n",
              "<style scoped>\n",
              "    .dataframe tbody tr th:only-of-type {\n",
              "        vertical-align: middle;\n",
              "    }\n",
              "\n",
              "    .dataframe tbody tr th {\n",
              "        vertical-align: top;\n",
              "    }\n",
              "\n",
              "    .dataframe thead th {\n",
              "        text-align: right;\n",
              "    }\n",
              "</style>\n",
              "<table border=\"1\" class=\"dataframe\">\n",
              "  <thead>\n",
              "    <tr style=\"text-align: right;\">\n",
              "      <th></th>\n",
              "      <th>feature1</th>\n",
              "      <th>feature2</th>\n",
              "      <th>corr</th>\n",
              "    </tr>\n",
              "  </thead>\n",
              "  <tbody>\n",
              "    <tr>\n",
              "      <th>0</th>\n",
              "      <td>Hematocrit</td>\n",
              "      <td>Hemoglobin</td>\n",
              "      <td>0.967940</td>\n",
              "    </tr>\n",
              "    <tr>\n",
              "      <th>1</th>\n",
              "      <td>Hemoglobin</td>\n",
              "      <td>Hematocrit</td>\n",
              "      <td>0.967940</td>\n",
              "    </tr>\n",
              "    <tr>\n",
              "      <th>2</th>\n",
              "      <td>Neutrophils</td>\n",
              "      <td>Lymphocytes</td>\n",
              "      <td>0.931494</td>\n",
              "    </tr>\n",
              "    <tr>\n",
              "      <th>3</th>\n",
              "      <td>Lymphocytes</td>\n",
              "      <td>Neutrophils</td>\n",
              "      <td>0.931494</td>\n",
              "    </tr>\n",
              "    <tr>\n",
              "      <th>4</th>\n",
              "      <td>Red blood Cells</td>\n",
              "      <td>Hematocrit</td>\n",
              "      <td>0.913360</td>\n",
              "    </tr>\n",
              "    <tr>\n",
              "      <th>5</th>\n",
              "      <td>Hematocrit</td>\n",
              "      <td>Red blood Cells</td>\n",
              "      <td>0.913360</td>\n",
              "    </tr>\n",
              "    <tr>\n",
              "      <th>6</th>\n",
              "      <td>Red blood Cells</td>\n",
              "      <td>Hemoglobin</td>\n",
              "      <td>0.888691</td>\n",
              "    </tr>\n",
              "    <tr>\n",
              "      <th>7</th>\n",
              "      <td>Hemoglobin</td>\n",
              "      <td>Red blood Cells</td>\n",
              "      <td>0.888691</td>\n",
              "    </tr>\n",
              "    <tr>\n",
              "      <th>8</th>\n",
              "      <td>Mean corpuscular volume (MCV)</td>\n",
              "      <td>Mean corpuscular hemoglobin (MCH)</td>\n",
              "      <td>0.860652</td>\n",
              "    </tr>\n",
              "    <tr>\n",
              "      <th>9</th>\n",
              "      <td>Mean corpuscular hemoglobin (MCH)</td>\n",
              "      <td>Mean corpuscular volume (MCV)</td>\n",
              "      <td>0.860652</td>\n",
              "    </tr>\n",
              "  </tbody>\n",
              "</table>\n",
              "</div>\n",
              "      <button class=\"colab-df-convert\" onclick=\"convertToInteractive('df-c6eff8c6-8072-4bca-bd1d-9fe9a892c6a9')\"\n",
              "              title=\"Convert this dataframe to an interactive table.\"\n",
              "              style=\"display:none;\">\n",
              "        \n",
              "  <svg xmlns=\"http://www.w3.org/2000/svg\" height=\"24px\"viewBox=\"0 0 24 24\"\n",
              "       width=\"24px\">\n",
              "    <path d=\"M0 0h24v24H0V0z\" fill=\"none\"/>\n",
              "    <path d=\"M18.56 5.44l.94 2.06.94-2.06 2.06-.94-2.06-.94-.94-2.06-.94 2.06-2.06.94zm-11 1L8.5 8.5l.94-2.06 2.06-.94-2.06-.94L8.5 2.5l-.94 2.06-2.06.94zm10 10l.94 2.06.94-2.06 2.06-.94-2.06-.94-.94-2.06-.94 2.06-2.06.94z\"/><path d=\"M17.41 7.96l-1.37-1.37c-.4-.4-.92-.59-1.43-.59-.52 0-1.04.2-1.43.59L10.3 9.45l-7.72 7.72c-.78.78-.78 2.05 0 2.83L4 21.41c.39.39.9.59 1.41.59.51 0 1.02-.2 1.41-.59l7.78-7.78 2.81-2.81c.8-.78.8-2.07 0-2.86zM5.41 20L4 18.59l7.72-7.72 1.47 1.35L5.41 20z\"/>\n",
              "  </svg>\n",
              "      </button>\n",
              "      \n",
              "  <style>\n",
              "    .colab-df-container {\n",
              "      display:flex;\n",
              "      flex-wrap:wrap;\n",
              "      gap: 12px;\n",
              "    }\n",
              "\n",
              "    .colab-df-convert {\n",
              "      background-color: #E8F0FE;\n",
              "      border: none;\n",
              "      border-radius: 50%;\n",
              "      cursor: pointer;\n",
              "      display: none;\n",
              "      fill: #1967D2;\n",
              "      height: 32px;\n",
              "      padding: 0 0 0 0;\n",
              "      width: 32px;\n",
              "    }\n",
              "\n",
              "    .colab-df-convert:hover {\n",
              "      background-color: #E2EBFA;\n",
              "      box-shadow: 0px 1px 2px rgba(60, 64, 67, 0.3), 0px 1px 3px 1px rgba(60, 64, 67, 0.15);\n",
              "      fill: #174EA6;\n",
              "    }\n",
              "\n",
              "    [theme=dark] .colab-df-convert {\n",
              "      background-color: #3B4455;\n",
              "      fill: #D2E3FC;\n",
              "    }\n",
              "\n",
              "    [theme=dark] .colab-df-convert:hover {\n",
              "      background-color: #434B5C;\n",
              "      box-shadow: 0px 1px 3px 1px rgba(0, 0, 0, 0.15);\n",
              "      filter: drop-shadow(0px 1px 2px rgba(0, 0, 0, 0.3));\n",
              "      fill: #FFFFFF;\n",
              "    }\n",
              "  </style>\n",
              "\n",
              "      <script>\n",
              "        const buttonEl =\n",
              "          document.querySelector('#df-c6eff8c6-8072-4bca-bd1d-9fe9a892c6a9 button.colab-df-convert');\n",
              "        buttonEl.style.display =\n",
              "          google.colab.kernel.accessAllowed ? 'block' : 'none';\n",
              "\n",
              "        async function convertToInteractive(key) {\n",
              "          const element = document.querySelector('#df-c6eff8c6-8072-4bca-bd1d-9fe9a892c6a9');\n",
              "          const dataTable =\n",
              "            await google.colab.kernel.invokeFunction('convertToInteractive',\n",
              "                                                     [key], {});\n",
              "          if (!dataTable) return;\n",
              "\n",
              "          const docLinkHtml = 'Like what you see? Visit the ' +\n",
              "            '<a target=\"_blank\" href=https://colab.research.google.com/notebooks/data_table.ipynb>data table notebook</a>'\n",
              "            + ' to learn more about interactive tables.';\n",
              "          element.innerHTML = '';\n",
              "          dataTable['output_type'] = 'display_data';\n",
              "          await google.colab.output.renderOutput(dataTable, element);\n",
              "          const docLink = document.createElement('div');\n",
              "          docLink.innerHTML = docLinkHtml;\n",
              "          element.appendChild(docLink);\n",
              "        }\n",
              "      </script>\n",
              "    </div>\n",
              "  </div>\n",
              "  "
            ]
          },
          "metadata": {},
          "execution_count": 111
        }
      ],
      "source": [
        "corrmat = X_train.corr()\n",
        "corrmat = corrmat.abs().unstack()\n",
        "corrmat = corrmat.sort_values(ascending=False)\n",
        "corrmat = corrmat[corrmat >= 0.8]\n",
        "corrmat = corrmat[corrmat < 1]\n",
        "corrmat = pd.DataFrame(corrmat).reset_index()\n",
        "corrmat.columns = ['feature1', 'feature2', 'corr']\n",
        "corrmat"
      ]
    },
    {
      "cell_type": "code",
      "execution_count": 112,
      "id": "czech-wheel",
      "metadata": {
        "id": "czech-wheel",
        "outputId": "6b13d2c1-e284-4c84-e7fc-77ea753259b8",
        "colab": {
          "base_uri": "https://localhost:8080/"
        }
      },
      "outputs": [
        {
          "output_type": "stream",
          "name": "stdout",
          "text": [
            "found 3 correlated groups\n",
            "out of 17 total features\n"
          ]
        }
      ],
      "source": [
        "# find groups of correlated features\n",
        "\n",
        "grouped_feature_ls = []\n",
        "correlated_groups = []\n",
        "\n",
        "for feature in corrmat.feature1.unique():\n",
        "    if feature not in grouped_feature_ls:\n",
        "\n",
        "        # find all features correlated to a single feature\n",
        "        correlated_block = corrmat[corrmat.feature1 == feature]\n",
        "        grouped_feature_ls = grouped_feature_ls + list(\n",
        "            correlated_block.feature2.unique()) + [feature]\n",
        "\n",
        "        # append the block of features to the list\n",
        "        correlated_groups.append(correlated_block)\n",
        "\n",
        "print('found {} correlated groups'.format(len(correlated_groups)))\n",
        "print('out of {} total features'.format(X_train.shape[1]))"
      ]
    },
    {
      "cell_type": "code",
      "execution_count": 113,
      "id": "missing-square",
      "metadata": {
        "id": "missing-square",
        "outputId": "50c696b7-fa36-4db1-e4a6-163a6fe9a5e8",
        "colab": {
          "base_uri": "https://localhost:8080/"
        }
      },
      "outputs": [
        {
          "output_type": "stream",
          "name": "stdout",
          "text": [
            "     feature1         feature2     corr\n",
            "0  Hematocrit       Hemoglobin  0.96794\n",
            "5  Hematocrit  Red blood Cells  0.91336\n",
            "\n",
            "      feature1     feature2      corr\n",
            "2  Neutrophils  Lymphocytes  0.931494\n",
            "\n",
            "                        feature1                           feature2      corr\n",
            "8  Mean corpuscular volume (MCV)  Mean corpuscular hemoglobin (MCH)  0.860652\n",
            "\n"
          ]
        }
      ],
      "source": [
        "# now we can visualise each group. We see that some groups contain\n",
        "# only 2 correlated features, some other groups present several features \n",
        "# that are correlated among themselves.\n",
        "\n",
        "for group in correlated_groups:\n",
        "    print(group)\n",
        "    print()"
      ]
    },
    {
      "cell_type": "code",
      "execution_count": 114,
      "id": "stuck-temple",
      "metadata": {
        "id": "stuck-temple"
      },
      "outputs": [],
      "source": [
        "def correlation(dataset, threshold):\n",
        "    col_corr = set()\n",
        "    corr_matrix = dataset.corr()\n",
        "    for i in range(len(corr_matrix.columns)):\n",
        "        for j in range(i):\n",
        "            if abs(corr_matrix.iloc[i, j] >= threshold):\n",
        "                colname = corr_matrix.columns[i]\n",
        "                col_corr.add(colname)\n",
        "    return col_corr"
      ]
    },
    {
      "cell_type": "code",
      "execution_count": 115,
      "id": "prerequisite-lecture",
      "metadata": {
        "id": "prerequisite-lecture",
        "outputId": "5e5a2520-5137-432a-fa49-5e94f394da2a",
        "colab": {
          "base_uri": "https://localhost:8080/"
        }
      },
      "outputs": [
        {
          "output_type": "stream",
          "name": "stdout",
          "text": [
            "['Mean corpuscular volume (MCV)', 'Hemoglobin', 'Red blood Cells']\n"
          ]
        }
      ],
      "source": [
        "corr_features = list((correlation(X_train, 0.8)))\n",
        "print(corr_features)"
      ]
    },
    {
      "cell_type": "code",
      "execution_count": 116,
      "id": "painted-uncertainty",
      "metadata": {
        "id": "painted-uncertainty"
      },
      "outputs": [],
      "source": [
        "X_train.drop(labels=corr_features, axis=1, inplace=True)\n",
        "X_smote_train.drop(labels=corr_features, axis=1, inplace=True)\n",
        "X_test.drop(labels=corr_features, axis=1, inplace=True)"
      ]
    },
    {
      "cell_type": "code",
      "execution_count": 117,
      "id": "roman-magnitude",
      "metadata": {
        "id": "roman-magnitude",
        "outputId": "3daddad7-6a9e-4c27-872d-749d95d70820",
        "colab": {
          "base_uri": "https://localhost:8080/"
        }
      },
      "outputs": [
        {
          "output_type": "execute_result",
          "data": {
            "text/plain": [
              "((336, 14), (572, 14), (84, 14))"
            ]
          },
          "metadata": {},
          "execution_count": 117
        }
      ],
      "source": [
        "X_train.shape, X_smote_train.shape, X_test.shape"
      ]
    },
    {
      "cell_type": "markdown",
      "id": "efficient-springfield",
      "metadata": {
        "id": "efficient-springfield"
      },
      "source": [
        "### 3.3 Statistical Methods"
      ]
    },
    {
      "cell_type": "markdown",
      "id": "incorrect-browser",
      "metadata": {
        "id": "incorrect-browser"
      },
      "source": [
        "#### 3.3.1 Mutual Information"
      ]
    },
    {
      "cell_type": "code",
      "execution_count": 118,
      "id": "future-silly",
      "metadata": {
        "id": "future-silly"
      },
      "outputs": [],
      "source": [
        "from sklearn.feature_selection import mutual_info_classif, mutual_info_regression\n",
        "from sklearn.feature_selection import SelectKBest, SelectPercentile"
      ]
    },
    {
      "cell_type": "code",
      "execution_count": 119,
      "id": "adverse-salad",
      "metadata": {
        "id": "adverse-salad"
      },
      "outputs": [],
      "source": [
        "mi = mutual_info_classif(X_train, y_train)\n",
        "mi = pd.Series(mi)\n",
        "mi.index = X_train.columns"
      ]
    },
    {
      "cell_type": "code",
      "execution_count": 120,
      "id": "oriental-beads",
      "metadata": {
        "id": "oriental-beads",
        "outputId": "0f5683e8-3422-4fdf-afbc-556b53d3ab9e",
        "colab": {
          "base_uri": "https://localhost:8080/",
          "height": 0
        }
      },
      "outputs": [
        {
          "output_type": "execute_result",
          "data": {
            "text/plain": [
              "<matplotlib.axes._subplots.AxesSubplot at 0x7f452ffc8f10>"
            ]
          },
          "metadata": {},
          "execution_count": 120
        },
        {
          "output_type": "display_data",
          "data": {
            "text/plain": [
              "<Figure size 1440x576 with 1 Axes>"
            ],
            "image/png": "[encoded data removed]"
          },
          "metadata": {
            "needs_background": "light"
          }
        }
      ],
      "source": [
        "mi.sort_values(ascending=False).plot.bar(figsize=(20, 8))"
      ]
    },
    {
      "cell_type": "code",
      "execution_count": 121,
      "id": "unavailable-handbook",
      "metadata": {
        "id": "unavailable-handbook"
      },
      "outputs": [],
      "source": [
        "sel_ = SelectKBest(mutual_info_classif, k = 10).fit(X_train, y_train)\n",
        "sel_smote_ = SelectKBest(mutual_info_classif, k = 10).fit(X_smote_train, y_smote_train)"
      ]
    },
    {
      "cell_type": "code",
      "execution_count": 122,
      "id": "grave-margin",
      "metadata": {
        "id": "grave-margin"
      },
      "outputs": [],
      "source": [
        "mi_features = list(X_train.columns[ ~ sel_.get_support()].values)\n",
        "mi_features_smote = list(X_smote_train.columns[ ~ sel_.get_support()].values)"
      ]
    },
    {
      "cell_type": "code",
      "execution_count": 123,
      "id": "sharing-mediterranean",
      "metadata": {
        "id": "sharing-mediterranean",
        "outputId": "4761b5f8-f9db-4e6c-cb76-f3a8cfdef78b",
        "colab": {
          "base_uri": "https://localhost:8080/"
        }
      },
      "outputs": [
        {
          "output_type": "execute_result",
          "data": {
            "text/plain": [
              "['Lymphocytes',\n",
              " 'Mean corpuscular hemoglobin concentration\\xa0(MCHC)',\n",
              " 'Mean corpuscular hemoglobin (MCH)',\n",
              " 'Red blood cell distribution width (RDW)']"
            ]
          },
          "metadata": {},
          "execution_count": 123
        }
      ],
      "source": [
        "mi_features"
      ]
    },
    {
      "cell_type": "code",
      "source": [
        "mi_features_smote"
      ],
      "metadata": {
        "colab": {
          "base_uri": "https://localhost:8080/"
        },
        "id": "OUTRwfuoslso",
        "outputId": "1cd2fffd-945d-42ae-d372-e0e062372a1a"
      },
      "id": "OUTRwfuoslso",
      "execution_count": 124,
      "outputs": [
        {
          "output_type": "execute_result",
          "data": {
            "text/plain": [
              "['Lymphocytes',\n",
              " 'Mean corpuscular hemoglobin concentration\\xa0(MCHC)',\n",
              " 'Mean corpuscular hemoglobin (MCH)',\n",
              " 'Red blood cell distribution width (RDW)']"
            ]
          },
          "metadata": {},
          "execution_count": 124
        }
      ]
    },
    {
      "cell_type": "code",
      "execution_count": 125,
      "id": "prime-yield",
      "metadata": {
        "scrolled": true,
        "id": "prime-yield"
      },
      "outputs": [],
      "source": [
        "X_train.drop(labels=mi_features, axis=1, inplace=True)\n",
        "X_smote_train.drop(labels=mi_features_smote, axis=1, inplace=True)\n",
        "X_test.drop(labels=mi_features, axis=1, inplace=True)"
      ]
    },
    {
      "cell_type": "code",
      "execution_count": 126,
      "id": "overhead-request",
      "metadata": {
        "id": "overhead-request",
        "outputId": "0fe1aace-e74e-4dcc-fbd6-98417eb79d9e",
        "colab": {
          "base_uri": "https://localhost:8080/"
        }
      },
      "outputs": [
        {
          "output_type": "execute_result",
          "data": {
            "text/plain": [
              "(336, 10)"
            ]
          },
          "metadata": {},
          "execution_count": 126
        }
      ],
      "source": [
        "X_train.shape"
      ]
    },
    {
      "cell_type": "code",
      "source": [
        "X_smote_train.shape"
      ],
      "metadata": {
        "colab": {
          "base_uri": "https://localhost:8080/"
        },
        "id": "HSXU6iBPstBK",
        "outputId": "ddf49a4a-6ce8-4bcf-dd09-cf34df12f9a8"
      },
      "id": "HSXU6iBPstBK",
      "execution_count": 127,
      "outputs": [
        {
          "output_type": "execute_result",
          "data": {
            "text/plain": [
              "(572, 10)"
            ]
          },
          "metadata": {},
          "execution_count": 127
        }
      ]
    },
    {
      "cell_type": "code",
      "execution_count": 128,
      "id": "rising-solid",
      "metadata": {
        "id": "rising-solid",
        "outputId": "d2acfcb9-d4be-4812-9b29-f578f921a5ad",
        "colab": {
          "base_uri": "https://localhost:8080/"
        }
      },
      "outputs": [
        {
          "output_type": "execute_result",
          "data": {
            "text/plain": [
              "(84, 10)"
            ]
          },
          "metadata": {},
          "execution_count": 128
        }
      ],
      "source": [
        "X_test.shape"
      ]
    },
    {
      "cell_type": "markdown",
      "id": "following-warren",
      "metadata": {
        "id": "following-warren"
      },
      "source": [
        "# 3. Classifier"
      ]
    },
    {
      "cell_type": "code",
      "execution_count": 129,
      "id": "guided-richards",
      "metadata": {
        "id": "guided-richards"
      },
      "outputs": [],
      "source": [
        "import sklearn\n",
        "import sklearn.ensemble\n",
        "import sklearn.metrics\n",
        "import xgboost as xgb"
      ]
    },
    {
      "cell_type": "code",
      "execution_count": 130,
      "id": "introductory-bottle",
      "metadata": {
        "id": "introductory-bottle"
      },
      "outputs": [],
      "source": [
        "from sklearn.model_selection import cross_val_score"
      ]
    },
    {
      "cell_type": "code",
      "execution_count": 131,
      "id": "angry-intro",
      "metadata": {
        "id": "angry-intro"
      },
      "outputs": [],
      "source": [
        "def cv_score(classifier, X, y, scoring):\n",
        "    return cross_val_score(classifier, X, y, cv=5, scoring=scoring)"
      ]
    },
    {
      "cell_type": "markdown",
      "id": "eight-tribute",
      "metadata": {
        "id": "eight-tribute"
      },
      "source": [
        "## 3.1.1 Decision Tree - Original"
      ]
    },
    {
      "cell_type": "code",
      "execution_count": 132,
      "id": "handled-python",
      "metadata": {
        "scrolled": true,
        "id": "handled-python",
        "outputId": "fb580ac6-1ad5-4581-d33b-3f84a7c1d84d",
        "colab": {
          "base_uri": "https://localhost:8080/"
        }
      },
      "outputs": [
        {
          "output_type": "execute_result",
          "data": {
            "text/plain": [
              "DecisionTreeClassifier()"
            ]
          },
          "metadata": {},
          "execution_count": 132
        }
      ],
      "source": [
        "dt = sklearn.tree.DecisionTreeClassifier()\n",
        "\n",
        "dt_f1 = cv_score(dt, X_train, y_train, 'f1')\n",
        "\n",
        "dt.fit(X_train, y_train)"
      ]
    },
    {
      "cell_type": "code",
      "execution_count": 133,
      "id": "treated-algebra",
      "metadata": {
        "id": "treated-algebra",
        "outputId": "3666e414-713a-4895-a691-4390395693f7",
        "colab": {
          "base_uri": "https://localhost:8080/"
        }
      },
      "outputs": [
        {
          "output_type": "stream",
          "name": "stdout",
          "text": [
            "0.3479315936901076\n"
          ]
        }
      ],
      "source": [
        "print(np.mean(dt_f1))"
      ]
    },
    {
      "cell_type": "markdown",
      "metadata": {
        "id": "3-oXhDzas1az"
      },
      "source": [
        "## 3.1.2 Decision Tree - SMOTE"
      ],
      "id": "3-oXhDzas1az"
    },
    {
      "cell_type": "code",
      "execution_count": 134,
      "metadata": {
        "scrolled": true,
        "outputId": "8f9a2e4e-2d4e-413e-9cce-87959e5a384d",
        "colab": {
          "base_uri": "https://localhost:8080/"
        },
        "id": "lcSG93Sjs1a0"
      },
      "outputs": [
        {
          "output_type": "execute_result",
          "data": {
            "text/plain": [
              "DecisionTreeClassifier()"
            ]
          },
          "metadata": {},
          "execution_count": 134
        }
      ],
      "source": [
        "dt_smote = sklearn.tree.DecisionTreeClassifier()\n",
        "\n",
        "dt_smote_f1 = cv_score(dt_smote, X_smote_train, y_smote_train, 'f1')\n",
        "\n",
        "dt_smote.fit(X_smote_train, y_smote_train)"
      ],
      "id": "lcSG93Sjs1a0"
    },
    {
      "cell_type": "code",
      "execution_count": 135,
      "metadata": {
        "outputId": "9cd13ed3-2c38-4ebd-fef6-cf88d55929dc",
        "colab": {
          "base_uri": "https://localhost:8080/"
        },
        "id": "GLcdzjz9s1a0"
      },
      "outputs": [
        {
          "output_type": "stream",
          "name": "stdout",
          "text": [
            "0.9011163425137274\n"
          ]
        }
      ],
      "source": [
        "print(np.mean(dt_smote_f1))"
      ],
      "id": "GLcdzjz9s1a0"
    },
    {
      "cell_type": "markdown",
      "id": "infinite-sending",
      "metadata": {
        "id": "infinite-sending"
      },
      "source": [
        "## 3.2.1 Random Forests - Original"
      ]
    },
    {
      "cell_type": "code",
      "execution_count": 136,
      "id": "geological-match",
      "metadata": {
        "id": "geological-match"
      },
      "outputs": [],
      "source": [
        "from sklearn.ensemble import RandomForestClassifier"
      ]
    },
    {
      "cell_type": "code",
      "execution_count": 137,
      "id": "possible-upper",
      "metadata": {
        "id": "possible-upper",
        "outputId": "d6e15760-69d2-4a48-d60b-09129a7bcc4f",
        "colab": {
          "base_uri": "https://localhost:8080/"
        }
      },
      "outputs": [
        {
          "output_type": "execute_result",
          "data": {
            "text/plain": [
              "RandomForestClassifier()"
            ]
          },
          "metadata": {},
          "execution_count": 137
        }
      ],
      "source": [
        "rf = sklearn.ensemble.RandomForestClassifier(n_estimators=100)\n",
        "\n",
        "rf_f1 = cv_score(rf, X_train, y_train, 'f1')\n",
        "\n",
        "rf.fit(X_train, y_train)"
      ]
    },
    {
      "cell_type": "code",
      "execution_count": 138,
      "id": "korean-stick",
      "metadata": {
        "id": "korean-stick",
        "outputId": "3dcb0f15-747c-4005-f26f-20310282a278",
        "colab": {
          "base_uri": "https://localhost:8080/"
        }
      },
      "outputs": [
        {
          "output_type": "stream",
          "name": "stdout",
          "text": [
            "0.41405946994182286\n"
          ]
        }
      ],
      "source": [
        "print(np.mean(rf_f1))"
      ]
    },
    {
      "cell_type": "markdown",
      "metadata": {
        "id": "o1Kp41HMtSC8"
      },
      "source": [
        "## 3.2.2 Random Forests - SMOTE"
      ],
      "id": "o1Kp41HMtSC8"
    },
    {
      "cell_type": "code",
      "execution_count": 139,
      "metadata": {
        "id": "f5o45hActSC9"
      },
      "outputs": [],
      "source": [
        "from sklearn.ensemble import RandomForestClassifier"
      ],
      "id": "f5o45hActSC9"
    },
    {
      "cell_type": "code",
      "execution_count": 140,
      "metadata": {
        "outputId": "8f7d96e2-e128-4957-fb3e-dc164201f43a",
        "colab": {
          "base_uri": "https://localhost:8080/"
        },
        "id": "xgXHeUGItSC9"
      },
      "outputs": [
        {
          "output_type": "execute_result",
          "data": {
            "text/plain": [
              "RandomForestClassifier()"
            ]
          },
          "metadata": {},
          "execution_count": 140
        }
      ],
      "source": [
        "rf_smote = sklearn.ensemble.RandomForestClassifier(n_estimators=100)\n",
        "\n",
        "rf_smote_f1 = cv_score(rf_smote, X_smote_train, y_smote_train, 'f1')\n",
        "\n",
        "rf_smote.fit(X_smote_train, y_smote_train)"
      ],
      "id": "xgXHeUGItSC9"
    },
    {
      "cell_type": "code",
      "execution_count": 141,
      "metadata": {
        "outputId": "61852dae-eedc-4c5c-98ec-8262eb52ab71",
        "colab": {
          "base_uri": "https://localhost:8080/"
        },
        "id": "NTwkSe7WtSC9"
      },
      "outputs": [
        {
          "output_type": "stream",
          "name": "stdout",
          "text": [
            "0.9406042857345864\n"
          ]
        }
      ],
      "source": [
        "print(np.mean(rf_smote_f1))"
      ],
      "id": "NTwkSe7WtSC9"
    },
    {
      "cell_type": "markdown",
      "id": "scenic-detective",
      "metadata": {
        "id": "scenic-detective"
      },
      "source": [
        "# 3.3.1 XGBoost - Original"
      ]
    },
    {
      "cell_type": "code",
      "execution_count": 142,
      "id": "inclusive-longitude",
      "metadata": {
        "id": "inclusive-longitude",
        "outputId": "862aa2aa-c86a-4d46-8a6e-130ed5c1a095",
        "colab": {
          "base_uri": "https://localhost:8080/"
        }
      },
      "outputs": [
        {
          "output_type": "execute_result",
          "data": {
            "text/plain": [
              "XGBClassifier(colsample_bylevel=0.7, colsample_bytree=0.7, eval_metric='error',\n",
              "              max_depth=4, min_child_weight=0, reg_alpha=4, scale_pos_weight=9,\n",
              "              subsample=0.8, use_label_encoder=False)"
            ]
          },
          "metadata": {},
          "execution_count": 142
        }
      ],
      "source": [
        "# Create a model\n",
        "# Params from: https://www.kaggle.com/aharless/swetha-s-xgboost-revised\n",
        "xgbc = xgb.XGBClassifier(\n",
        "    max_depth = 4,\n",
        "    subsample = 0.8,\n",
        "    colsample_bytree = 0.7,\n",
        "    colsample_bylevel = 0.7,\n",
        "    scale_pos_weight = 9,\n",
        "    min_child_weight = 0,\n",
        "    reg_alpha = 4,\n",
        "    objective = 'binary:logistic',\n",
        "    use_label_encoder=False,\n",
        "    eval_metric='error'\n",
        ")\n",
        "\n",
        "xgbc_f1 = cv_score(xgbc, np.array(X_train), np.array(y_train), 'f1')\n",
        "\n",
        "# Fit the models\n",
        "xgbc.fit(np.array(X_train), np.array(y_train))"
      ]
    },
    {
      "cell_type": "code",
      "execution_count": 143,
      "id": "fiscal-monitor",
      "metadata": {
        "id": "fiscal-monitor",
        "outputId": "b3d9c690-f0d2-4938-b905-1305ffc4b177",
        "colab": {
          "base_uri": "https://localhost:8080/"
        }
      },
      "outputs": [
        {
          "output_type": "stream",
          "name": "stdout",
          "text": [
            "0.5828085957021489\n"
          ]
        }
      ],
      "source": [
        "print(np.mean(xgbc_f1))"
      ]
    },
    {
      "cell_type": "markdown",
      "metadata": {
        "id": "Q3D34TXEtsHd"
      },
      "source": [
        "# 3.3.2 XGBoost - SMOTE"
      ],
      "id": "Q3D34TXEtsHd"
    },
    {
      "cell_type": "code",
      "execution_count": 144,
      "metadata": {
        "outputId": "ff5bf55d-7249-430f-f9c5-961ecec81a13",
        "colab": {
          "base_uri": "https://localhost:8080/"
        },
        "id": "cGrccoektsHd"
      },
      "outputs": [
        {
          "output_type": "execute_result",
          "data": {
            "text/plain": [
              "XGBClassifier(colsample_bylevel=0.7, colsample_bytree=0.7, eval_metric='error',\n",
              "              max_depth=4, min_child_weight=0, reg_alpha=4, scale_pos_weight=9,\n",
              "              subsample=0.8, use_label_encoder=False)"
            ]
          },
          "metadata": {},
          "execution_count": 144
        }
      ],
      "source": [
        "# Create a model\n",
        "# Params from: https://www.kaggle.com/aharless/swetha-s-xgboost-revised\n",
        "xgbc_smote = xgb.XGBClassifier(\n",
        "    max_depth = 4,\n",
        "    subsample = 0.8,\n",
        "    colsample_bytree = 0.7,\n",
        "    colsample_bylevel = 0.7,\n",
        "    scale_pos_weight = 9,\n",
        "    min_child_weight = 0,\n",
        "    reg_alpha = 4,\n",
        "    objective = 'binary:logistic',\n",
        "    use_label_encoder=False,\n",
        "    eval_metric='error'\n",
        ")\n",
        "\n",
        "xgbc_smote_f1 = cv_score(xgbc_smote, np.array(X_smote_train), np.array(y_smote_train), 'f1')\n",
        "\n",
        "# Fit the models\n",
        "xgbc_smote.fit(np.array(X_smote_train), np.array(y_smote_train))"
      ],
      "id": "cGrccoektsHd"
    },
    {
      "cell_type": "code",
      "execution_count": 145,
      "metadata": {
        "outputId": "5c2f0f00-654b-43ba-9ad2-a53186dd4df8",
        "colab": {
          "base_uri": "https://localhost:8080/"
        },
        "id": "da5W3vdStsHe"
      },
      "outputs": [
        {
          "output_type": "stream",
          "name": "stdout",
          "text": [
            "0.908325806032894\n"
          ]
        }
      ],
      "source": [
        "print(np.mean(xgbc_smote_f1))"
      ],
      "id": "da5W3vdStsHe"
    },
    {
      "cell_type": "markdown",
      "metadata": {
        "id": "bZEi2t0xLQZy"
      },
      "source": [
        "# 3.4.1 Logistic Regression - Original"
      ],
      "id": "bZEi2t0xLQZy"
    },
    {
      "cell_type": "code",
      "execution_count": 146,
      "metadata": {
        "outputId": "82ef6123-4d1e-4681-a886-31601150f33c",
        "colab": {
          "base_uri": "https://localhost:8080/"
        },
        "id": "qRGbgT9kLQZz"
      },
      "outputs": [
        {
          "output_type": "execute_result",
          "data": {
            "text/plain": [
              "LogisticRegression()"
            ]
          },
          "metadata": {},
          "execution_count": 146
        }
      ],
      "source": [
        "from sklearn.linear_model import LogisticRegression\n",
        "from sklearn import metrics\n",
        "\n",
        "lr = LogisticRegression()\n",
        "\n",
        "lr_f1 = cv_score(lr, X_train, y_train, 'f1')\n",
        "\n",
        "lr.fit(X_train, y_train)"
      ],
      "id": "qRGbgT9kLQZz"
    },
    {
      "cell_type": "code",
      "execution_count": 147,
      "metadata": {
        "outputId": "dc01cb0a-2f90-436f-adb0-3c9785373eae",
        "colab": {
          "base_uri": "https://localhost:8080/"
        },
        "id": "HPt7KNgOLQZ0"
      },
      "outputs": [
        {
          "output_type": "stream",
          "name": "stdout",
          "text": [
            "0.5372549019607843\n"
          ]
        }
      ],
      "source": [
        "print(np.mean(lr_f1))"
      ],
      "id": "HPt7KNgOLQZ0"
    },
    {
      "cell_type": "markdown",
      "metadata": {
        "id": "dGcUAEk5usKs"
      },
      "source": [
        "# 3.4.2 Logistic Regression - SMOTE"
      ],
      "id": "dGcUAEk5usKs"
    },
    {
      "cell_type": "code",
      "execution_count": 148,
      "metadata": {
        "outputId": "19486ae4-f38d-4187-b3f0-b1b6e02d2b7d",
        "colab": {
          "base_uri": "https://localhost:8080/"
        },
        "id": "goaU1KqousKt"
      },
      "outputs": [
        {
          "output_type": "execute_result",
          "data": {
            "text/plain": [
              "LogisticRegression()"
            ]
          },
          "metadata": {},
          "execution_count": 148
        }
      ],
      "source": [
        "from sklearn.linear_model import LogisticRegression\n",
        "from sklearn import metrics\n",
        "\n",
        "lr_smote = LogisticRegression()\n",
        "\n",
        "lr_smote_f1 = cv_score(lr_smote, X_smote_train, y_smote_train, 'f1')\n",
        "\n",
        "lr_smote.fit(X_smote_train, y_smote_train)"
      ],
      "id": "goaU1KqousKt"
    },
    {
      "cell_type": "code",
      "execution_count": 149,
      "metadata": {
        "outputId": "85f5853f-606f-4cec-a21a-8b46b978fe89",
        "colab": {
          "base_uri": "https://localhost:8080/"
        },
        "id": "eNWnm_eQusKt"
      },
      "outputs": [
        {
          "output_type": "stream",
          "name": "stdout",
          "text": [
            "0.8882567292974249\n"
          ]
        }
      ],
      "source": [
        "print(np.mean(lr_smote_f1))"
      ],
      "id": "eNWnm_eQusKt"
    },
    {
      "cell_type": "markdown",
      "source": [
        "# Stacking"
      ],
      "metadata": {
        "id": "cFwYFIet8xyT"
      },
      "id": "cFwYFIet8xyT"
    },
    {
      "cell_type": "code",
      "source": [
        "X_stacking = pd.DataFrame(X_test.index)\n",
        "rf_smote_pred_df = pd.DataFrame(rf_smote_pred)\n",
        "xgbc_pred_df = pd.DataFrame(xgbc_pred)\n",
        "xgbc_smote_pred_df = pd.DataFrame(xgbc_smote_pred)\n",
        "lr_pred_df = pd.DataFrame(lr_pred)\n",
        "lr_smote_pred_df = pd.DataFrame(lr_smote_pred)"
      ],
      "metadata": {
        "id": "cr7-Q5X68xyU",
        "colab": {
          "base_uri": "https://localhost:8080/",
          "height": 235
        },
        "outputId": "94c88831-a8c7-4826-c612-3c82432d1791"
      },
      "execution_count": 77,
      "outputs": [
        {
          "output_type": "error",
          "ename": "NameError",
          "evalue": "ignored",
          "traceback": [
            "\u001b[0;31m---------------------------------------------------------------------------\u001b[0m",
            "\u001b[0;31mNameError\u001b[0m                                 Traceback (most recent call last)",
            "\u001b[0;32m<ipython-input-77-64b1807d7c8c>\u001b[0m in \u001b[0;36m<module>\u001b[0;34m()\u001b[0m\n\u001b[1;32m      1\u001b[0m \u001b[0mX_stacking\u001b[0m \u001b[0;34m=\u001b[0m \u001b[0mpd\u001b[0m\u001b[0;34m.\u001b[0m\u001b[0mDataFrame\u001b[0m\u001b[0;34m(\u001b[0m\u001b[0mX_test\u001b[0m\u001b[0;34m.\u001b[0m\u001b[0mindex\u001b[0m\u001b[0;34m)\u001b[0m\u001b[0;34m\u001b[0m\u001b[0;34m\u001b[0m\u001b[0m\n\u001b[0;32m----> 2\u001b[0;31m \u001b[0mrf_smote_pred_df\u001b[0m \u001b[0;34m=\u001b[0m \u001b[0mpd\u001b[0m\u001b[0;34m.\u001b[0m\u001b[0mDataFrame\u001b[0m\u001b[0;34m(\u001b[0m\u001b[0mrf_smote_pred\u001b[0m\u001b[0;34m)\u001b[0m\u001b[0;34m\u001b[0m\u001b[0;34m\u001b[0m\u001b[0m\n\u001b[0m\u001b[1;32m      3\u001b[0m \u001b[0mxgbc_pred_df\u001b[0m \u001b[0;34m=\u001b[0m \u001b[0mpd\u001b[0m\u001b[0;34m.\u001b[0m\u001b[0mDataFrame\u001b[0m\u001b[0;34m(\u001b[0m\u001b[0mxgbc_pred\u001b[0m\u001b[0;34m)\u001b[0m\u001b[0;34m\u001b[0m\u001b[0;34m\u001b[0m\u001b[0m\n\u001b[1;32m      4\u001b[0m \u001b[0mxgbc_smote_pred_df\u001b[0m \u001b[0;34m=\u001b[0m \u001b[0mpd\u001b[0m\u001b[0;34m.\u001b[0m\u001b[0mDataFrame\u001b[0m\u001b[0;34m(\u001b[0m\u001b[0mxgbc_smote_pred\u001b[0m\u001b[0;34m)\u001b[0m\u001b[0;34m\u001b[0m\u001b[0;34m\u001b[0m\u001b[0m\n\u001b[1;32m      5\u001b[0m \u001b[0mlr_pred_df\u001b[0m \u001b[0;34m=\u001b[0m \u001b[0mpd\u001b[0m\u001b[0;34m.\u001b[0m\u001b[0mDataFrame\u001b[0m\u001b[0;34m(\u001b[0m\u001b[0mlr_pred\u001b[0m\u001b[0;34m)\u001b[0m\u001b[0;34m\u001b[0m\u001b[0;34m\u001b[0m\u001b[0m\n",
            "\u001b[0;31mNameError\u001b[0m: name 'rf_smote_pred' is not defined"
          ]
        }
      ],
      "id": "cr7-Q5X68xyU"
    },
    {
      "cell_type": "code",
      "source": [
        "X_stacking = pd.merge(X_stacking, rf_smote_pred_df, left_index=True, right_index=True)\n",
        "X_stacking = pd.merge(X_stacking, xgbc_pred_df, left_index=True, right_index=True)\n",
        "X_stacking = pd.merge(X_stacking, xgbc_smote_pred_df, left_index=True, right_index=True)\n",
        "X_stacking = pd.merge(X_stacking, lr_pred_df, left_index=True, right_index=True)\n",
        "X_stacking = pd.merge(X_stacking, lr_smote_pred_df, left_index=True, right_index=True)"
      ],
      "metadata": {
        "colab": {
          "base_uri": "https://localhost:8080/"
        },
        "outputId": "2351d913-1bf4-4e99-8354-39f9dcaa063a",
        "id": "QnHIForK8xyU"
      },
      "execution_count": null,
      "outputs": [
        {
          "output_type": "stream",
          "name": "stderr",
          "text": [
            "/usr/local/lib/python3.7/dist-packages/ipykernel_launcher.py:3: FutureWarning: Passing 'suffixes' which cause duplicate columns {'0_x'} in the result is deprecated and will raise a MergeError in a future version.\n",
            "  This is separate from the ipykernel package so we can avoid doing imports until\n",
            "/usr/local/lib/python3.7/dist-packages/ipykernel_launcher.py:5: FutureWarning: Passing 'suffixes' which cause duplicate columns {'0_x'} in the result is deprecated and will raise a MergeError in a future version.\n",
            "  \"\"\"\n"
          ]
        }
      ],
      "id": "QnHIForK8xyU"
    },
    {
      "cell_type": "code",
      "source": [
        "X_stacking.columns = ['id','Random_Forest_SMOTE','XGBoost','XGBoost_SMOTE','Logistic_Regression','Logistic_Regression_SMOTE']\n",
        "X_stacking['Average'] = ( X_stacking['Random_Forest_SMOTE'] + X_stacking['XGBoost'] + X_stacking['XGBoost_SMOTE'] + X_stacking['Logistic_Regression'] + X_stacking['Logistic_Regression_SMOTE'] ) / 5\n",
        "X_stacking['Prediction'] = [1 if x > 0.5 else 0 for x in X_stacking['Average']]\n",
        "stack_pred = np.array(X_stacking['Prediction'])"
      ],
      "metadata": {
        "id": "jUIRZqKe8xyU"
      },
      "execution_count": null,
      "outputs": [],
      "id": "jUIRZqKe8xyU"
    },
    {
      "cell_type": "code",
      "source": [
        "print(\"Stacking\")\n",
        "print(\"Precision: \", sklearn.metrics.accuracy_score(y_test, stack_pred))\n",
        "print(\"Recal: \", sklearn.metrics.recall_score(y_test, stack_pred))\n",
        "print(\"F1: \", sklearn.metrics.f1_score(y_test, stack_pred))"
      ],
      "metadata": {
        "colab": {
          "base_uri": "https://localhost:8080/"
        },
        "outputId": "680ec4e8-cc21-4ab3-f5b8-6bd2b6933174",
        "id": "XvHqeqOM8xyV"
      },
      "execution_count": null,
      "outputs": [
        {
          "output_type": "stream",
          "name": "stdout",
          "text": [
            "Stacking\n",
            "Precision:  0.873015873015873\n",
            "Recal:  0.7777777777777778\n",
            "F1:  0.6363636363636364\n"
          ]
        }
      ],
      "id": "XvHqeqOM8xyV"
    },
    {
      "cell_type": "code",
      "source": [
        "print('Prediction:', ' '.join(str(e) for e in stack_pred))\n",
        "print('     Truth:', ' '.join(str(e) for e in y_test))"
      ],
      "metadata": {
        "colab": {
          "base_uri": "https://localhost:8080/"
        },
        "id": "VxFOhNQl9JS_",
        "outputId": "86be148f-1d02-4606-8893-ec27144a0cb3"
      },
      "id": "VxFOhNQl9JS_",
      "execution_count": null,
      "outputs": [
        {
          "output_type": "stream",
          "name": "stdout",
          "text": [
            "Prediction: 1 0 1 0 0 1 1 1 0 0 0 0 0 0 0 0 0 0 0 0 0 1 0 0 0 1 0 0 0 0 0 0 1 0 1 0 0 0 0 0 0 0 0 1 0 0 0 0 0 0 0 0 0 0 0 0 0 0 0 1 0 0 0 0 0 1 0 0 0 0 0 0 1 1 0 0 0 0 0 0 0 0 0 0 0 0 0 0 0 0 0 0 1 0 0 0 1 1 0 1 0 1 1 1 0 0 0 0 0 0 0 0 0 0 0 0 1 1 0 0 0 1 1 1 0 0\n",
            "     Truth: 1 0 0 0 0 0 1 1 0 0 0 0 0 1 0 0 0 0 0 0 0 1 0 0 0 0 1 0 0 0 0 0 1 0 1 0 0 0 0 0 0 0 0 0 0 0 0 0 0 0 0 0 0 0 0 0 0 0 0 1 0 0 0 0 0 0 0 0 0 0 0 0 0 0 0 0 0 0 0 0 0 0 0 0 0 0 0 0 0 0 0 0 1 0 0 0 0 0 0 1 0 0 1 0 0 0 0 0 0 0 0 0 0 1 0 1 1 1 0 0 0 1 0 1 0 0\n"
          ]
        }
      ]
    },
    {
      "cell_type": "markdown",
      "id": "parliamentary-integration",
      "metadata": {
        "id": "parliamentary-integration"
      },
      "source": [
        "# 4. Prediction"
      ]
    },
    {
      "cell_type": "code",
      "execution_count": 150,
      "id": "surprising-villa",
      "metadata": {
        "id": "surprising-villa"
      },
      "outputs": [],
      "source": [
        "import math"
      ]
    },
    {
      "cell_type": "markdown",
      "source": [
        "## 4.1. Training Dataset"
      ],
      "metadata": {
        "id": "xAPwcv44g3LJ"
      },
      "id": "xAPwcv44g3LJ"
    },
    {
      "cell_type": "code",
      "execution_count": 153,
      "metadata": {
        "scrolled": false,
        "outputId": "9372a7fc-b5f2-4059-ca2c-35ad4312a6dd",
        "colab": {
          "base_uri": "https://localhost:8080/",
          "height": 836
        },
        "id": "iuxTRlKfg3LJ"
      },
      "outputs": [
        {
          "output_type": "stream",
          "name": "stdout",
          "text": [
            "Decision Tree - Original\n",
            "Precision:  0.4924603174603174\n",
            "Recall:  0.5066666666666666\n",
            "F1:  0.4841791541791542\n",
            "\n",
            "Decision Tree - SMOTE\n",
            "Precision:  0.46642857142857147\n",
            "Recall:  0.4866666666666667\n",
            "F1:  0.4714285714285714\n",
            "\n",
            "Random Forest - Original\n",
            "Precision:  0.595\n",
            "Recall:  0.2666666666666666\n",
            "F1:  0.38968253968253974\n",
            "\n",
            "Random Forest - SMOTE\n",
            "Precision:  0.7\n",
            "Recall:  0.35\n",
            "F1:  0.45999999999999996\n",
            "\n",
            "XGBoost - Original\n",
            "Precision:  0.5144660894660895\n",
            "Recall:  0.6233333333333333\n",
            "F1:  0.5467731614790439\n",
            "\n",
            "XGBoost - SMOTE\n",
            "Precision:  0.5144660894660895\n",
            "Recall:  0.6233333333333333\n",
            "F1:  0.5467731614790439\n",
            "\n",
            "LR - Original\n"
          ]
        },
        {
          "output_type": "stream",
          "name": "stderr",
          "text": [
            "/usr/local/lib/python3.7/dist-packages/sklearn/metrics/_classification.py:1318: UndefinedMetricWarning: Precision is ill-defined and being set to 0.0 due to no predicted samples. Use `zero_division` parameter to control this behavior.\n",
            "  _warn_prf(average, modifier, msg_start, len(result))\n"
          ]
        },
        {
          "output_type": "stream",
          "name": "stdout",
          "text": [
            "Precision:  0.674047619047619\n",
            "Recall:  0.45\n",
            "F1:  0.5167016317016316\n",
            "\n",
            "LR - SMOTE\n"
          ]
        },
        {
          "output_type": "stream",
          "name": "stderr",
          "text": [
            "/usr/local/lib/python3.7/dist-packages/sklearn/metrics/_classification.py:1318: UndefinedMetricWarning: Precision is ill-defined and being set to 0.0 due to no predicted samples. Use `zero_division` parameter to control this behavior.\n",
            "  _warn_prf(average, modifier, msg_start, len(result))\n"
          ]
        },
        {
          "output_type": "stream",
          "name": "stdout",
          "text": [
            "Precision:  0.674047619047619\n",
            "Recall:  0.45\n",
            "F1:  0.5167016317016316\n",
            "\n"
          ]
        },
        {
          "output_type": "execute_result",
          "data": {
            "text/plain": [
              "'\\nprint(\"Stacking\")\\nprint(\"Precision: \", sklearn.metrics.accuracy_score(y_test, stack_pred))\\nprint(\"Recal: \", sklearn.metrics.recall_score(y_test, stack_pred))\\nprint(\"F1: \", sklearn.metrics.f1_score(y_test, stack_pred))\\n'"
            ],
            "application/vnd.google.colaboratory.intrinsic+json": {
              "type": "string"
            }
          },
          "metadata": {},
          "execution_count": 153
        }
      ],
      "source": [
        "print(\"Decision Tree - Original\")\n",
        "print(\"Precision: \", np.mean(cross_val_score(dt, X, y, cv=10, scoring=\"precision\")))\n",
        "print(\"Recall: \", np.mean(cross_val_score(dt, X, y, cv=10, scoring=\"recall\")))\n",
        "print(\"F1: \", np.mean(cross_val_score(dt, X, y, cv=10, scoring=\"f1\")))\n",
        "\n",
        "print()\n",
        "\n",
        "print(\"Decision Tree - SMOTE\")\n",
        "print(\"Precision: \", np.mean(cross_val_score(dt_smote, X, y, cv=10, scoring=\"precision\")))\n",
        "print(\"Recall: \", np.mean(cross_val_score(dt_smote, X, y, cv=10, scoring=\"recall\")))\n",
        "print(\"F1: \", np.mean(cross_val_score(dt_smote, X, y, cv=10, scoring=\"f1\")))\n",
        "\n",
        "print()\n",
        "\n",
        "print(\"Random Forest - Original\")\n",
        "print(\"Precision: \", np.mean(cross_val_score(rf, X, y, cv=10, scoring=\"precision\")))\n",
        "print(\"Recall: \", np.mean(cross_val_score(rf, X, y, cv=10, scoring=\"recall\")))\n",
        "print(\"F1: \", np.mean(cross_val_score(rf, X, y, cv=10, scoring=\"f1\")))\n",
        "\n",
        "print()\n",
        "\n",
        "print(\"Random Forest - SMOTE\")\n",
        "print(\"Precision: \", np.mean(cross_val_score(rf_smote, X, y, cv=10, scoring=\"precision\")))\n",
        "print(\"Recall: \", np.mean(cross_val_score(rf_smote, X, y, cv=10, scoring=\"recall\")))\n",
        "print(\"F1: \", np.mean(cross_val_score(rf_smote, X, y, cv=10, scoring=\"f1\")))\n",
        "\n",
        "print()\n",
        "\n",
        "print(\"XGBoost - Original\")\n",
        "print(\"Precision: \", np.mean(cross_val_score(xgbc, X, y, cv=10, scoring=\"precision\")))\n",
        "print(\"Recall: \", np.mean(cross_val_score(xgbc, X, y, cv=10, scoring=\"recall\")))\n",
        "print(\"F1: \", np.mean(cross_val_score(xgbc, X, y, cv=10, scoring=\"f1\")))\n",
        "\n",
        "print()\n",
        "\n",
        "print(\"XGBoost - SMOTE\")\n",
        "print(\"Precision: \", np.mean(cross_val_score(xgbc_smote, X, y, cv=10, scoring=\"precision\")))\n",
        "print(\"Recall: \", np.mean(cross_val_score(xgbc_smote, X, y, cv=10, scoring=\"recall\")))\n",
        "print(\"F1: \", np.mean(cross_val_score(xgbc_smote, X, y, cv=10, scoring=\"f1\")))\n",
        "\n",
        "print()\n",
        "\n",
        "print(\"LR - Original\")\n",
        "print(\"Precision: \", np.mean(cross_val_score(lr, X, y, cv=10, scoring=\"precision\")))\n",
        "print(\"Recall: \", np.mean(cross_val_score(lr, X, y, cv=10, scoring=\"recall\")))\n",
        "print(\"F1: \", np.mean(cross_val_score(lr, X, y, cv=10, scoring=\"f1\")))\n",
        "\n",
        "print()\n",
        "\n",
        "print(\"LR - SMOTE\")\n",
        "print(\"Precision: \", np.mean(cross_val_score(lr_smote, X, y, cv=10, scoring=\"precision\")))\n",
        "print(\"Recall: \", np.mean(cross_val_score(lr_smote, X, y, cv=10, scoring=\"recall\")))\n",
        "print(\"F1: \", np.mean(cross_val_score(lr_smote, X, y, cv=10, scoring=\"f1\")))\n",
        "\n",
        "print()\n",
        "'''\n",
        "print(\"Stacking\")\n",
        "print(\"Precision: \", sklearn.metrics.accuracy_score(y_test, stack_pred))\n",
        "print(\"Recal: \", sklearn.metrics.recall_score(y_test, stack_pred))\n",
        "print(\"F1: \", sklearn.metrics.f1_score(y_test, stack_pred))\n",
        "'''"
      ],
      "id": "iuxTRlKfg3LJ"
    },
    {
      "cell_type": "markdown",
      "source": [
        "## 4.2. Test Dataset"
      ],
      "metadata": {
        "id": "3g5DP4lYgqzL"
      },
      "id": "3g5DP4lYgqzL"
    },
    {
      "cell_type": "code",
      "execution_count": 154,
      "id": "impressive-encoding",
      "metadata": {
        "scrolled": false,
        "id": "impressive-encoding",
        "outputId": "74f1c60b-c52f-445f-9f6c-2ef3597b8fb8",
        "colab": {
          "base_uri": "https://localhost:8080/",
          "height": 885
        }
      },
      "outputs": [
        {
          "output_type": "stream",
          "name": "stdout",
          "text": [
            "Decision Tree - Original\n",
            "Precision:  0.9166666666666666\n",
            "Recal:  0.6666666666666666\n",
            "F1:  0.631578947368421\n",
            "CI: 0.059105993930552596\n",
            "\n",
            "Decision Tree - SMOTE\n",
            "Precision:  0.8452380952380952\n",
            "Recal:  0.3333333333333333\n",
            "F1:  0.3157894736842105\n",
            "CI: 0.07734602386294598\n",
            "\n",
            "Random Forest - Original\n",
            "Precision:  0.9047619047619048\n",
            "Recal:  0.3333333333333333\n",
            "F1:  0.42857142857142855\n",
            "CI: 0.06277531951922459\n",
            "\n",
            "Random Forest - SMOTE\n",
            "Precision:  0.9404761904761905\n",
            "Recal:  0.5555555555555556\n",
            "F1:  0.6666666666666667\n",
            "CI: 0.05059827255139433\n",
            "\n",
            "XGBoost - Original\n",
            "Precision:  0.9166666666666666\n",
            "Recal:  0.7777777777777778\n",
            "F1:  0.6666666666666666\n",
            "CI: 0.059105993930552596\n",
            "\n",
            "XGBoost - SMOTE\n",
            "Precision:  0.8452380952380952\n",
            "Recal:  0.7777777777777778\n",
            "F1:  0.5185185185185185\n",
            "CI: 0.07734602386294598\n",
            "\n",
            "LR - Original\n",
            "Precision:  0.9047619047619048\n",
            "Recal:  0.4444444444444444\n",
            "F1:  0.5\n",
            "CI: 0.06277531951922459\n",
            "\n",
            "LR - SMOTE\n",
            "Precision:  0.8333333333333334\n",
            "Recal:  0.6666666666666666\n",
            "F1:  0.46153846153846156\n",
            "CI: 0.07969850595746354\n",
            "\n"
          ]
        },
        {
          "output_type": "execute_result",
          "data": {
            "text/plain": [
              "'\\nprint(\"Stacking\")\\nprint(\"Precision: \", sklearn.metrics.accuracy_score(y_test, stack_pred))\\nprint(\"Recal: \", sklearn.metrics.recall_score(y_test, stack_pred))\\nprint(\"F1: \", sklearn.metrics.f1_score(y_test, stack_pred))\\n'"
            ],
            "application/vnd.google.colaboratory.intrinsic+json": {
              "type": "string"
            }
          },
          "metadata": {},
          "execution_count": 154
        }
      ],
      "source": [
        "dt_pred = dt.predict(X_test)\n",
        "dt_smote_pred = dt_smote.predict(X_test)\n",
        "rf_pred = rf.predict(X_test)\n",
        "rf_smote_pred = rf_smote.predict(X_test)\n",
        "xgbc_pred = xgbc.predict(np.array(X_test))\n",
        "xgbc_smote_pred = xgbc_smote.predict(np.array(X_test))\n",
        "lr_pred = lr.predict(X_test)\n",
        "lr_smote_pred = lr_smote.predict(X_test)\n",
        "\n",
        "print(\"Decision Tree - Original\")\n",
        "print(\"Precision: \", sklearn.metrics.accuracy_score(y_test, dt_pred))\n",
        "print(\"Recal: \", sklearn.metrics.recall_score(y_test, dt_pred))\n",
        "print(\"F1: \", sklearn.metrics.f1_score(y_test, dt_pred))\n",
        "print(\"CI:\", 1.96 * math.sqrt( ((1 - sklearn.metrics.accuracy_score(y_test, dt_pred)) * (sklearn.metrics.accuracy_score(y_test, dt_pred))) / len(X_test)))\n",
        "\n",
        "print()\n",
        "\n",
        "print(\"Decision Tree - SMOTE\")\n",
        "print(\"Precision: \", sklearn.metrics.accuracy_score(y_test, dt_smote_pred))\n",
        "print(\"Recal: \", sklearn.metrics.recall_score(y_test, dt_smote_pred))\n",
        "print(\"F1: \", sklearn.metrics.f1_score(y_test, dt_smote_pred))\n",
        "print(\"CI:\", 1.96 * math.sqrt( ((1 - sklearn.metrics.accuracy_score(y_test, dt_smote_pred)) * (sklearn.metrics.accuracy_score(y_test, dt_smote_pred))) / len(X_test)))\n",
        "\n",
        "print()\n",
        "\n",
        "print(\"Random Forest - Original\")\n",
        "print(\"Precision: \", sklearn.metrics.accuracy_score(y_test, rf_pred))\n",
        "print(\"Recal: \", sklearn.metrics.recall_score(y_test, rf_pred))\n",
        "print(\"F1: \", sklearn.metrics.f1_score(y_test, rf_pred))\n",
        "print(\"CI:\", 1.96 * math.sqrt( ((1 - sklearn.metrics.accuracy_score(y_test, rf_pred)) * (sklearn.metrics.accuracy_score(y_test, rf_pred))) / len(X_test)))\n",
        "\n",
        "print()\n",
        "\n",
        "print(\"Random Forest - SMOTE\")\n",
        "print(\"Precision: \", sklearn.metrics.accuracy_score(y_test, rf_smote_pred))\n",
        "print(\"Recal: \", sklearn.metrics.recall_score(y_test, rf_smote_pred))\n",
        "print(\"F1: \", sklearn.metrics.f1_score(y_test, rf_smote_pred))\n",
        "print(\"CI:\", 1.96 * math.sqrt( ((1 - sklearn.metrics.accuracy_score(y_test, rf_smote_pred)) * (sklearn.metrics.accuracy_score(y_test, rf_smote_pred))) / len(X_test)))\n",
        "\n",
        "print()\n",
        "\n",
        "print(\"XGBoost - Original\")\n",
        "print(\"Precision: \", sklearn.metrics.accuracy_score(y_test, xgbc_pred))\n",
        "print(\"Recal: \", sklearn.metrics.recall_score(y_test, xgbc_pred))\n",
        "print(\"F1: \", sklearn.metrics.f1_score(y_test, xgbc_pred))\n",
        "print(\"CI:\", 1.96 * math.sqrt( ((1 - sklearn.metrics.accuracy_score(y_test, xgbc_pred)) * (sklearn.metrics.accuracy_score(y_test, xgbc_pred))) / len(X_test)))\n",
        "\n",
        "print()\n",
        "\n",
        "print(\"XGBoost - SMOTE\")\n",
        "print(\"Precision: \", sklearn.metrics.accuracy_score(y_test, xgbc_smote_pred))\n",
        "print(\"Recal: \", sklearn.metrics.recall_score(y_test, xgbc_smote_pred))\n",
        "print(\"F1: \", sklearn.metrics.f1_score(y_test, xgbc_smote_pred))\n",
        "print(\"CI:\", 1.96 * math.sqrt( ((1 - sklearn.metrics.accuracy_score(y_test, xgbc_smote_pred)) * (sklearn.metrics.accuracy_score(y_test, xgbc_smote_pred))) / len(X_test)))\n",
        "\n",
        "print()\n",
        "\n",
        "print(\"LR - Original\")\n",
        "print(\"Precision: \", sklearn.metrics.accuracy_score(y_test, lr_pred))\n",
        "print(\"Recal: \", sklearn.metrics.recall_score(y_test, lr_pred))\n",
        "print(\"F1: \", sklearn.metrics.f1_score(y_test, lr_pred))\n",
        "print(\"CI:\", 1.96 * math.sqrt( ((1 - sklearn.metrics.accuracy_score(y_test, lr_pred)) * (sklearn.metrics.accuracy_score(y_test, lr_pred))) / len(X_test)))\n",
        "\n",
        "print()\n",
        "\n",
        "print(\"LR - SMOTE\")\n",
        "print(\"Precision: \", sklearn.metrics.accuracy_score(y_test, lr_smote_pred))\n",
        "print(\"Recal: \", sklearn.metrics.recall_score(y_test, lr_smote_pred))\n",
        "print(\"F1: \", sklearn.metrics.f1_score(y_test, lr_smote_pred))\n",
        "print(\"CI:\", 1.96 * math.sqrt( ((1 - sklearn.metrics.accuracy_score(y_test, lr_smote_pred)) * (sklearn.metrics.accuracy_score(y_test, lr_smote_pred))) / len(X_test)))\n",
        "\n",
        "print()\n",
        "'''\n",
        "print(\"Stacking\")\n",
        "print(\"Precision: \", sklearn.metrics.accuracy_score(y_test, stack_pred))\n",
        "print(\"Recal: \", sklearn.metrics.recall_score(y_test, stack_pred))\n",
        "print(\"F1: \", sklearn.metrics.f1_score(y_test, stack_pred))\n",
        "'''"
      ]
    },
    {
      "cell_type": "code",
      "execution_count": 88,
      "id": "actual-momentum",
      "metadata": {
        "id": "actual-momentum",
        "outputId": "2fb435a9-19ab-4721-fff2-1edcd4ad797a",
        "colab": {
          "base_uri": "https://localhost:8080/"
        }
      },
      "outputs": [
        {
          "output_type": "stream",
          "name": "stdout",
          "text": [
            "Original:\n",
            " Decision Tree: 0 0 0 0 0 1 0 0 0 0 0 0 0 0 0 0 0 0 0 0 0 0 0 0 0 1 0 0 0 0 0 0 0 0 0 0 0 1 0 0 0 0 0 0 0 0 0 0 1 0 0 0 0 0 0 1 0 0 0 1 0 0 0 0 0 0 0 0 0 0 0 1 1 0 0 0 0 0 0 1 0 0 0 0 0 0 0 0 0 0 0 0 0 0 0 0 0 0 1 0 0 1 1 1 0 0 0 0 0 0 0 0 0 1 0 0 0 0 0 0 0 0 1 1 0 0\n",
            " Random Forest: 1 0 0 0 0 1 1 0 0 0 0 0 0 0 0 0 0 0 0 0 0 0 0 0 0 1 0 0 0 0 0 0 0 0 0 0 0 0 0 0 0 0 0 0 0 0 0 0 0 0 0 0 0 0 0 0 0 0 0 0 0 0 0 0 0 0 0 0 0 0 0 0 0 0 0 0 0 0 0 0 0 0 0 0 0 0 0 0 0 0 0 0 0 0 0 0 0 0 0 0 0 1 1 0 0 0 0 0 0 0 0 0 0 0 0 0 1 0 0 0 0 0 0 1 0 0\n",
            "       XGBoost: 1 0 1 0 0 1 1 1 0 0 0 0 0 0 0 0 0 1 0 0 0 1 0 0 0 1 0 0 0 0 0 0 1 0 1 0 0 0 0 0 0 0 0 1 0 0 0 0 0 0 0 0 0 0 0 0 0 0 0 1 0 0 0 0 0 1 0 0 0 0 0 0 1 1 0 0 0 0 0 0 0 0 0 0 0 0 0 0 0 0 0 0 1 0 0 0 1 1 1 1 0 1 1 1 0 0 0 0 0 0 0 0 0 0 0 0 1 1 0 0 0 1 1 1 0 0\n",
            "  Logistic Reg: 1 0 0 0 0 0 1 0 0 0 0 0 0 0 0 0 0 0 0 0 0 0 0 0 0 1 0 0 0 0 0 0 0 0 1 0 0 0 0 0 0 0 0 0 0 0 0 0 0 0 0 0 0 0 0 1 0 0 0 0 0 0 0 0 0 1 0 0 0 0 0 0 0 1 0 0 0 0 0 0 0 0 0 0 0 0 0 0 0 0 0 0 1 0 0 0 0 0 0 1 0 0 1 0 0 0 0 0 0 0 0 0 0 1 0 0 1 0 0 0 0 0 0 1 0 0\n",
            "\n",
            "SMOTE:\n",
            " Decision Tree: 0 0 1 0 0 0 0 0 0 0 0 0 0 0 1 0 0 1 1 0 0 0 0 0 0 1 0 0 0 0 0 0 1 0 0 0 0 0 0 0 0 0 0 1 0 0 0 0 1 0 0 0 0 0 0 0 0 0 0 1 0 0 0 0 0 0 0 0 0 0 0 0 0 0 0 0 0 0 0 1 0 0 0 0 0 0 0 0 0 0 0 0 0 0 0 0 1 0 1 0 0 0 1 0 0 0 0 0 0 0 0 0 1 0 0 0 1 1 0 0 0 0 0 1 0 1\n",
            " Random Forest: 1 0 0 0 0 1 0 1 0 0 0 0 0 0 0 0 0 0 0 0 0 1 0 0 0 0 0 0 0 0 0 0 1 0 1 0 0 0 0 0 0 0 0 1 0 0 0 0 0 0 0 0 0 0 0 0 0 0 0 1 0 0 0 0 0 0 0 0 0 0 0 0 0 1 0 0 0 0 0 0 0 0 0 0 0 0 0 0 0 0 0 0 0 0 0 0 1 0 1 1 0 1 1 0 0 0 0 0 0 0 0 0 0 0 0 0 1 1 0 0 0 1 0 1 0 0\n",
            "       XGBoost: 1 0 1 0 0 1 1 1 0 0 0 0 0 0 1 0 0 1 1 0 0 1 0 0 0 1 0 0 1 0 0 0 1 0 1 1 0 0 0 0 0 0 0 1 0 0 1 0 0 0 0 0 0 0 1 0 0 0 0 1 0 0 0 1 0 1 0 0 0 0 0 0 1 1 0 0 0 0 0 0 0 0 0 0 0 0 0 0 0 0 0 0 1 0 0 0 1 1 1 1 0 1 1 1 0 0 0 0 0 0 0 0 0 0 0 0 1 1 0 0 0 1 1 1 0 0\n",
            "  Logistic Reg: 1 0 1 0 0 1 1 1 0 1 0 0 0 0 0 0 0 0 0 0 1 1 0 0 0 1 0 0 1 0 0 0 0 0 1 0 0 0 0 0 0 0 0 1 0 0 0 0 0 0 0 0 0 0 0 1 0 0 0 1 0 0 0 1 1 1 0 0 0 0 0 0 1 1 0 0 0 0 0 1 0 0 0 0 0 0 0 0 0 0 0 0 1 0 0 0 1 1 1 1 0 1 1 1 0 0 0 0 0 0 0 0 0 1 0 0 1 1 0 0 0 0 1 1 0 0\n",
            "\n",
            "         Truth: 1 0 0 0 0 0 1 1 0 0 0 0 0 1 0 0 0 0 0 0 0 1 0 0 0 0 1 0 0 0 0 0 1 0 1 0 0 0 0 0 0 0 0 0 0 0 0 0 0 0 0 0 0 0 0 0 0 0 0 1 0 0 0 0 0 0 0 0 0 0 0 0 0 0 0 0 0 0 0 0 0 0 0 0 0 0 0 0 0 0 0 0 1 0 0 0 0 0 0 1 0 0 1 0 0 0 0 0 0 0 0 0 0 1 0 1 1 1 0 0 0 1 0 1 0 0\n"
          ]
        }
      ],
      "source": [
        "print('Original:')\n",
        "print(' Decision Tree:', ' '.join(str(e) for e in dt_pred))\n",
        "print(' Random Forest:', ' '.join(str(e) for e in rf_pred))\n",
        "print('       XGBoost:', ' '.join(str(e) for e in xgbc_pred))\n",
        "print('  Logistic Reg:', ' '.join(str(e) for e in lr_pred))\n",
        "print()\n",
        "print('SMOTE:')\n",
        "print(' Decision Tree:', ' '.join(str(e) for e in dt_smote_pred))\n",
        "print(' Random Forest:', ' '.join(str(e) for e in rf_smote_pred))\n",
        "print('       XGBoost:', ' '.join(str(e) for e in xgbc_smote_pred))\n",
        "print('  Logistic Reg:', ' '.join(str(e) for e in lr_smote_pred))\n",
        "print()\n",
        "#print('      Stacking:', ' '.join(str(e) for e in stack_pred))\n",
        "print('         Truth:', ' '.join(str(e) for e in y_test))"
      ]
    },
    {
      "cell_type": "markdown",
      "id": "subject-sector",
      "metadata": {
        "id": "subject-sector"
      },
      "source": [
        "# 5. Save Results"
      ]
    },
    {
      "cell_type": "markdown",
      "id": "recorded-bonus",
      "metadata": {
        "id": "recorded-bonus"
      },
      "source": [
        "## 5.1 Save model"
      ]
    },
    {
      "cell_type": "code",
      "execution_count": null,
      "id": "engaging-housing",
      "metadata": {
        "id": "engaging-housing"
      },
      "outputs": [],
      "source": [
        "import pickle"
      ]
    },
    {
      "cell_type": "code",
      "execution_count": null,
      "id": "intellectual-retirement",
      "metadata": {
        "id": "intellectual-retirement",
        "outputId": "fe5de307-6c88-4e37-d0d4-c3ee048767e9",
        "colab": {
          "base_uri": "https://localhost:8080/",
          "height": 235
        }
      },
      "outputs": [
        {
          "output_type": "error",
          "ename": "FileNotFoundError",
          "evalue": "ignored",
          "traceback": [
            "\u001b[0;31m---------------------------------------------------------------------------\u001b[0m",
            "\u001b[0;31mFileNotFoundError\u001b[0m                         Traceback (most recent call last)",
            "\u001b[0;32m<ipython-input-86-5ee4c67f4e04>\u001b[0m in \u001b[0;36m<module>\u001b[0;34m()\u001b[0m\n\u001b[0;32m----> 1\u001b[0;31m \u001b[0;32mwith\u001b[0m \u001b[0mopen\u001b[0m\u001b[0;34m(\u001b[0m\u001b[0;34m\"model/model-3_kaggle.pkl\"\u001b[0m\u001b[0;34m,\u001b[0m \u001b[0;34m'wb'\u001b[0m\u001b[0;34m)\u001b[0m \u001b[0;32mas\u001b[0m \u001b[0mf\u001b[0m\u001b[0;34m:\u001b[0m\u001b[0;34m\u001b[0m\u001b[0;34m\u001b[0m\u001b[0m\n\u001b[0m\u001b[1;32m      2\u001b[0m     \u001b[0mpickle\u001b[0m\u001b[0;34m.\u001b[0m\u001b[0mdump\u001b[0m\u001b[0;34m(\u001b[0m\u001b[0;34m[\u001b[0m\u001b[0mdt\u001b[0m\u001b[0;34m,\u001b[0m \u001b[0mrf\u001b[0m\u001b[0;34m,\u001b[0m \u001b[0mxgbc\u001b[0m\u001b[0;34m]\u001b[0m\u001b[0;34m,\u001b[0m \u001b[0mf\u001b[0m\u001b[0;34m)\u001b[0m\u001b[0;34m\u001b[0m\u001b[0;34m\u001b[0m\u001b[0m\n\u001b[1;32m      3\u001b[0m \u001b[0;31m# with open(\"model-4.pkl\", 'wb') as f:\u001b[0m\u001b[0;34m\u001b[0m\u001b[0;34m\u001b[0m\u001b[0;34m\u001b[0m\u001b[0m\n\u001b[1;32m      4\u001b[0m \u001b[0;31m#     pickle.dump([dt, rf, xgbc, nn], f)\u001b[0m\u001b[0;34m\u001b[0m\u001b[0;34m\u001b[0m\u001b[0;34m\u001b[0m\u001b[0m\n\u001b[1;32m      5\u001b[0m \u001b[0;32mwith\u001b[0m \u001b[0mopen\u001b[0m\u001b[0;34m(\u001b[0m\u001b[0;34m\"dataset/dataset_kaggle.pkl\"\u001b[0m\u001b[0;34m,\u001b[0m \u001b[0;34m'wb'\u001b[0m\u001b[0;34m)\u001b[0m \u001b[0;32mas\u001b[0m \u001b[0mf\u001b[0m\u001b[0;34m:\u001b[0m\u001b[0;34m\u001b[0m\u001b[0;34m\u001b[0m\u001b[0m\n",
            "\u001b[0;31mFileNotFoundError\u001b[0m: [Errno 2] No such file or directory: 'model/model-3_kaggle.pkl'"
          ]
        }
      ],
      "source": [
        "with open(\"model/model-3_kaggle.pkl\", 'wb') as f:\n",
        "    pickle.dump([dt, rf, xgbc], f)\n",
        "# with open(\"model-4.pkl\", 'wb') as f:\n",
        "#     pickle.dump([dt, rf, xgbc, nn], f)\n",
        "with open(\"dataset/dataset_kaggle.pkl\", 'wb') as f:\n",
        "    pickle.dump([X_train, X_test, y_train, y_test], f)"
      ]
    },
    {
      "cell_type": "code",
      "execution_count": null,
      "id": "looking-delaware",
      "metadata": {
        "scrolled": true,
        "id": "looking-delaware"
      },
      "outputs": [],
      "source": [
        "nn.model.save('model/nn_kaggle.h5')"
      ]
    },
    {
      "cell_type": "markdown",
      "id": "dramatic-entrance",
      "metadata": {
        "id": "dramatic-entrance"
      },
      "source": [
        "## 5.2 Load Model"
      ]
    },
    {
      "cell_type": "code",
      "execution_count": null,
      "id": "immune-voice",
      "metadata": {
        "id": "immune-voice"
      },
      "outputs": [],
      "source": [
        "import keras\n",
        "from keras.models import load_model"
      ]
    },
    {
      "cell_type": "code",
      "execution_count": null,
      "id": "comparable-synthesis",
      "metadata": {
        "id": "comparable-synthesis",
        "outputId": "7a8cc45d-9702-41db-abb6-316f923d9cd2",
        "colab": {
          "base_uri": "https://localhost:8080/",
          "height": 311
        }
      },
      "outputs": [
        {
          "output_type": "error",
          "ename": "OSError",
          "evalue": "ignored",
          "traceback": [
            "\u001b[0;31m---------------------------------------------------------------------------\u001b[0m",
            "\u001b[0;31mOSError\u001b[0m                                   Traceback (most recent call last)",
            "\u001b[0;32m<ipython-input-91-6ccb60829e3e>\u001b[0m in \u001b[0;36m<module>\u001b[0;34m()\u001b[0m\n\u001b[0;32m----> 1\u001b[0;31m \u001b[0mnn\u001b[0m \u001b[0;34m=\u001b[0m \u001b[0mload_model\u001b[0m\u001b[0;34m(\u001b[0m\u001b[0;34m\"model/nn_kaggle.h5\"\u001b[0m\u001b[0;34m)\u001b[0m\u001b[0;34m\u001b[0m\u001b[0;34m\u001b[0m\u001b[0m\n\u001b[0m",
            "\u001b[0;32m/usr/local/lib/python3.7/dist-packages/keras/utils/traceback_utils.py\u001b[0m in \u001b[0;36merror_handler\u001b[0;34m(*args, **kwargs)\u001b[0m\n\u001b[1;32m     65\u001b[0m     \u001b[0;32mexcept\u001b[0m \u001b[0mException\u001b[0m \u001b[0;32mas\u001b[0m \u001b[0me\u001b[0m\u001b[0;34m:\u001b[0m  \u001b[0;31m# pylint: disable=broad-except\u001b[0m\u001b[0;34m\u001b[0m\u001b[0;34m\u001b[0m\u001b[0m\n\u001b[1;32m     66\u001b[0m       \u001b[0mfiltered_tb\u001b[0m \u001b[0;34m=\u001b[0m \u001b[0m_process_traceback_frames\u001b[0m\u001b[0;34m(\u001b[0m\u001b[0me\u001b[0m\u001b[0;34m.\u001b[0m\u001b[0m__traceback__\u001b[0m\u001b[0;34m)\u001b[0m\u001b[0;34m\u001b[0m\u001b[0;34m\u001b[0m\u001b[0m\n\u001b[0;32m---> 67\u001b[0;31m       \u001b[0;32mraise\u001b[0m \u001b[0me\u001b[0m\u001b[0;34m.\u001b[0m\u001b[0mwith_traceback\u001b[0m\u001b[0;34m(\u001b[0m\u001b[0mfiltered_tb\u001b[0m\u001b[0;34m)\u001b[0m \u001b[0;32mfrom\u001b[0m \u001b[0;32mNone\u001b[0m\u001b[0;34m\u001b[0m\u001b[0;34m\u001b[0m\u001b[0m\n\u001b[0m\u001b[1;32m     68\u001b[0m     \u001b[0;32mfinally\u001b[0m\u001b[0;34m:\u001b[0m\u001b[0;34m\u001b[0m\u001b[0;34m\u001b[0m\u001b[0m\n\u001b[1;32m     69\u001b[0m       \u001b[0;32mdel\u001b[0m \u001b[0mfiltered_tb\u001b[0m\u001b[0;34m\u001b[0m\u001b[0;34m\u001b[0m\u001b[0m\n",
            "\u001b[0;32m/usr/local/lib/python3.7/dist-packages/keras/saving/save.py\u001b[0m in \u001b[0;36mload_model\u001b[0;34m(filepath, custom_objects, compile, options)\u001b[0m\n\u001b[1;32m    202\u001b[0m         \u001b[0;32mif\u001b[0m \u001b[0misinstance\u001b[0m\u001b[0;34m(\u001b[0m\u001b[0mfilepath_str\u001b[0m\u001b[0;34m,\u001b[0m \u001b[0mstr\u001b[0m\u001b[0;34m)\u001b[0m\u001b[0;34m:\u001b[0m\u001b[0;34m\u001b[0m\u001b[0;34m\u001b[0m\u001b[0m\n\u001b[1;32m    203\u001b[0m           \u001b[0;32mif\u001b[0m \u001b[0;32mnot\u001b[0m \u001b[0mtf\u001b[0m\u001b[0;34m.\u001b[0m\u001b[0mio\u001b[0m\u001b[0;34m.\u001b[0m\u001b[0mgfile\u001b[0m\u001b[0;34m.\u001b[0m\u001b[0mexists\u001b[0m\u001b[0;34m(\u001b[0m\u001b[0mfilepath_str\u001b[0m\u001b[0;34m)\u001b[0m\u001b[0;34m:\u001b[0m\u001b[0;34m\u001b[0m\u001b[0;34m\u001b[0m\u001b[0m\n\u001b[0;32m--> 204\u001b[0;31m             \u001b[0;32mraise\u001b[0m \u001b[0mIOError\u001b[0m\u001b[0;34m(\u001b[0m\u001b[0;34mf'No file or directory found at {filepath_str}'\u001b[0m\u001b[0;34m)\u001b[0m\u001b[0;34m\u001b[0m\u001b[0;34m\u001b[0m\u001b[0m\n\u001b[0m\u001b[1;32m    205\u001b[0m \u001b[0;34m\u001b[0m\u001b[0m\n\u001b[1;32m    206\u001b[0m           \u001b[0;32mif\u001b[0m \u001b[0mtf\u001b[0m\u001b[0;34m.\u001b[0m\u001b[0mio\u001b[0m\u001b[0;34m.\u001b[0m\u001b[0mgfile\u001b[0m\u001b[0;34m.\u001b[0m\u001b[0misdir\u001b[0m\u001b[0;34m(\u001b[0m\u001b[0mfilepath_str\u001b[0m\u001b[0;34m)\u001b[0m\u001b[0;34m:\u001b[0m\u001b[0;34m\u001b[0m\u001b[0;34m\u001b[0m\u001b[0m\n",
            "\u001b[0;31mOSError\u001b[0m: No file or directory found at model/nn_kaggle.h5"
          ]
        }
      ],
      "source": [
        "nn = load_model(\"model/nn_kaggle.h5\")"
      ]
    },
    {
      "cell_type": "code",
      "execution_count": null,
      "id": "preceding-jungle",
      "metadata": {
        "id": "preceding-jungle"
      },
      "outputs": [],
      "source": [
        "with open(\"model/model-3_kaggle.pkl\", 'rb') as f:\n",
        "    [dt, rf, xgbc] = pickle.load(f)"
      ]
    },
    {
      "cell_type": "code",
      "execution_count": null,
      "id": "thrown-range",
      "metadata": {
        "id": "thrown-range"
      },
      "outputs": [],
      "source": [
        "with open(\"dataset/dataset_kaggle.pkl\", 'rb') as f:\n",
        "    [X_train, X_test, y_train, y_test] = pickle.load(f)"
      ]
    },
    {
      "cell_type": "markdown",
      "id": "removed-newfoundland",
      "metadata": {
        "id": "removed-newfoundland"
      },
      "source": [
        "# 6. Explain"
      ]
    },
    {
      "cell_type": "markdown",
      "id": "romance-victorian",
      "metadata": {
        "id": "romance-victorian"
      },
      "source": [
        "## 6.3 Feature Importance"
      ]
    },
    {
      "cell_type": "code",
      "execution_count": null,
      "id": "affected-gateway",
      "metadata": {
        "id": "affected-gateway"
      },
      "outputs": [],
      "source": [
        "from sklearn.inspection import permutation_importance\n",
        "from matplotlib import pyplot"
      ]
    },
    {
      "cell_type": "code",
      "execution_count": null,
      "id": "swiss-calendar",
      "metadata": {
        "id": "swiss-calendar"
      },
      "outputs": [],
      "source": [
        "fi = {}\n",
        "fi[\"dt\"] = []\n",
        "fi[\"rf\"] = []\n",
        "fi[\"xgbc\"] = []\n",
        "fi[\"lr\"] = []\n",
        "fi[\"dt_smote\"] = []\n",
        "fi[\"rf_smote\"] = []\n",
        "fi[\"xgbc_smote\"] = []\n",
        "fi[\"lr_smote\"] = []"
      ]
    },
    {
      "cell_type": "markdown",
      "id": "premium-marketing",
      "metadata": {
        "id": "premium-marketing"
      },
      "source": [
        "**Decision Tree - Original**"
      ]
    },
    {
      "cell_type": "code",
      "execution_count": null,
      "id": "quality-grove",
      "metadata": {
        "id": "quality-grove"
      },
      "outputs": [],
      "source": [
        "dt_results = permutation_importance(dt, X_train, y_train, scoring='accuracy')\n",
        "dt_importance = dt_results.importances_mean\n",
        "for i,v in enumerate(dt_importance):\n",
        "    if v != 0:\n",
        "        fi[\"dt\"].append({\n",
        "            'name': X_train.columns[i],\n",
        "            'value': v\n",
        "        })"
      ]
    },
    {
      "cell_type": "code",
      "execution_count": null,
      "id": "opponent-publicity",
      "metadata": {
        "id": "opponent-publicity"
      },
      "outputs": [],
      "source": [
        "fi[\"dt\"] = sorted(fi[\"dt\"], key=lambda x: x['value'], reverse=True)"
      ]
    },
    {
      "cell_type": "markdown",
      "metadata": {
        "id": "YkgO7uPs_a2X"
      },
      "source": [
        "**Decision Tree - SMOTE**"
      ],
      "id": "YkgO7uPs_a2X"
    },
    {
      "cell_type": "code",
      "execution_count": null,
      "metadata": {
        "id": "XTHrHOej_a2Y"
      },
      "outputs": [],
      "source": [
        "dt_smote_results = permutation_importance(dt_smote, X_smote_train, y_smote_train, scoring='accuracy')\n",
        "dt_smote_importance = dt_smote_results.importances_mean\n",
        "for i,v in enumerate(dt_smote_importance):\n",
        "    if v != 0:\n",
        "        fi[\"dt_smote\"].append({\n",
        "            'name': X_smote_train.columns[i],\n",
        "            'value': v\n",
        "        })"
      ],
      "id": "XTHrHOej_a2Y"
    },
    {
      "cell_type": "code",
      "execution_count": null,
      "metadata": {
        "id": "Z-14aknw_a2Y"
      },
      "outputs": [],
      "source": [
        "fi[\"dt_smote\"] = sorted(fi[\"dt_smote\"], key=lambda x: x['value'], reverse=True)"
      ],
      "id": "Z-14aknw_a2Y"
    },
    {
      "cell_type": "markdown",
      "id": "independent-edition",
      "metadata": {
        "id": "independent-edition"
      },
      "source": [
        "**Random Forests - Original**"
      ]
    },
    {
      "cell_type": "code",
      "execution_count": null,
      "id": "consistent-savannah",
      "metadata": {
        "id": "consistent-savannah"
      },
      "outputs": [],
      "source": [
        "rf_results = permutation_importance(rf, X_train, y_train, scoring='accuracy')\n",
        "rf_importance = rf_results.importances_mean\n",
        "for i,v in enumerate(rf_importance):\n",
        "    if v != 0:\n",
        "        fi[\"rf\"].append({\n",
        "            'name': X_train.columns[i],\n",
        "            'value': v\n",
        "        })"
      ]
    },
    {
      "cell_type": "code",
      "execution_count": null,
      "id": "finished-degree",
      "metadata": {
        "id": "finished-degree"
      },
      "outputs": [],
      "source": [
        "fi[\"rf\"] = sorted(fi[\"rf\"], key=lambda x: x['value'], reverse=True)"
      ]
    },
    {
      "cell_type": "markdown",
      "metadata": {
        "id": "wkiThItd_vBP"
      },
      "source": [
        "**Random Forests - SMOTE**"
      ],
      "id": "wkiThItd_vBP"
    },
    {
      "cell_type": "code",
      "execution_count": null,
      "metadata": {
        "id": "TucR_p3E_vBP"
      },
      "outputs": [],
      "source": [
        "rf_smote_results = permutation_importance(rf_smote, X_smote_train, y_smote_train, scoring='accuracy')\n",
        "rf_smote_importance = rf_smote_results.importances_mean\n",
        "for i,v in enumerate(rf_smote_importance):\n",
        "    if v != 0:\n",
        "        fi[\"rf_smote\"].append({\n",
        "            'name': X_smote_train.columns[i],\n",
        "            'value': v\n",
        "        })"
      ],
      "id": "TucR_p3E_vBP"
    },
    {
      "cell_type": "code",
      "execution_count": null,
      "metadata": {
        "id": "ArCZzuGq_vBQ"
      },
      "outputs": [],
      "source": [
        "fi[\"rf_smote\"] = sorted(fi[\"rf_smote\"], key=lambda x: x['value'], reverse=True)"
      ],
      "id": "ArCZzuGq_vBQ"
    },
    {
      "cell_type": "markdown",
      "id": "obvious-stress",
      "metadata": {
        "id": "obvious-stress"
      },
      "source": [
        "**Gradient Boosted Tree - Original**"
      ]
    },
    {
      "cell_type": "code",
      "execution_count": null,
      "id": "occasional-airfare",
      "metadata": {
        "id": "occasional-airfare"
      },
      "outputs": [],
      "source": [
        "xgbc_results = permutation_importance(xgbc, np.array(X_train), np.array(y_train), scoring='accuracy')\n",
        "xgbc_importance = xgbc_results.importances_mean\n",
        "for i,v in enumerate(xgbc_importance):\n",
        "    if v != 0:\n",
        "        fi[\"xgbc\"].append({\n",
        "            'name': X_train.columns[i],\n",
        "            'value': v\n",
        "        })"
      ]
    },
    {
      "cell_type": "code",
      "source": [
        "fi[\"xgbc\"] = sorted(fi[\"xgbc\"], key=lambda x: x['value'], reverse=True)"
      ],
      "metadata": {
        "id": "qrFUIfjXAKwD"
      },
      "id": "qrFUIfjXAKwD",
      "execution_count": null,
      "outputs": []
    },
    {
      "cell_type": "markdown",
      "metadata": {
        "id": "AkXYIqqU_8fQ"
      },
      "source": [
        "**Gradient Boosted Tree - SMOTE**"
      ],
      "id": "AkXYIqqU_8fQ"
    },
    {
      "cell_type": "code",
      "execution_count": null,
      "metadata": {
        "id": "58zNR1HB_8fR"
      },
      "outputs": [],
      "source": [
        "xgbc_smote_results = permutation_importance(xgbc_smote, np.array(X_smote_train), np.array(y_smote_train), scoring='accuracy')\n",
        "xgbc_smote_importance = xgbc_smote_results.importances_mean\n",
        "for i,v in enumerate(xgbc_smote_importance):\n",
        "    if v != 0:\n",
        "        fi[\"xgbc_smote\"].append({\n",
        "            'name': X_smote_train.columns[i],\n",
        "            'value': v\n",
        "        })"
      ],
      "id": "58zNR1HB_8fR"
    },
    {
      "cell_type": "code",
      "source": [
        "fi[\"xgbc_smote\"] = sorted(fi[\"xgbc_smote\"], key=lambda x: x['value'], reverse=True)"
      ],
      "metadata": {
        "id": "FLTxKNPWALge"
      },
      "id": "FLTxKNPWALge",
      "execution_count": null,
      "outputs": []
    },
    {
      "cell_type": "markdown",
      "id": "related-checkout",
      "metadata": {
        "id": "related-checkout"
      },
      "source": [
        "**Logistic Regression - Original**"
      ]
    },
    {
      "cell_type": "code",
      "execution_count": null,
      "id": "black-obligation",
      "metadata": {
        "scrolled": true,
        "id": "black-obligation"
      },
      "outputs": [],
      "source": [
        "lr_results = permutation_importance(lr, X_train, y_train, scoring='accuracy')\n",
        "lr_importance = lr_results.importances_mean\n",
        "for i,v in enumerate(lr_importance):\n",
        "    if v != 0:\n",
        "        fi[\"lr\"].append({\n",
        "            'name': X_train.columns[i],\n",
        "            'value': v\n",
        "        })"
      ]
    },
    {
      "cell_type": "code",
      "execution_count": null,
      "id": "acquired-clark",
      "metadata": {
        "id": "acquired-clark"
      },
      "outputs": [],
      "source": [
        "fi[\"lr\"] = sorted(fi[\"lr\"], key=lambda x: x['value'], reverse=True)"
      ]
    },
    {
      "cell_type": "markdown",
      "metadata": {
        "id": "iqursmRfApI3"
      },
      "source": [
        "**Logistic Regression - SMOTE**"
      ],
      "id": "iqursmRfApI3"
    },
    {
      "cell_type": "code",
      "execution_count": null,
      "metadata": {
        "scrolled": true,
        "id": "lw5-fsGkApI3"
      },
      "outputs": [],
      "source": [
        "lr_smote_results = permutation_importance(lr_smote, X_smote_train, y_smote_train, scoring='accuracy')\n",
        "lr_smote_importance = lr_smote_results.importances_mean\n",
        "for i,v in enumerate(lr_smote_importance):\n",
        "    if v != 0:\n",
        "        fi[\"lr_smote\"].append({\n",
        "            'name': X_smote_train.columns[i],\n",
        "            'value': v\n",
        "        })"
      ],
      "id": "lw5-fsGkApI3"
    },
    {
      "cell_type": "code",
      "execution_count": null,
      "metadata": {
        "id": "7JB3KigHApI3"
      },
      "outputs": [],
      "source": [
        "fi[\"lr_smote\"] = sorted(fi[\"lr_smote\"], key=lambda x: x['value'], reverse=True)"
      ],
      "id": "7JB3KigHApI3"
    },
    {
      "cell_type": "markdown",
      "id": "fatal-suspect",
      "metadata": {
        "id": "fatal-suspect"
      },
      "source": [
        "**Summmary**"
      ]
    },
    {
      "cell_type": "code",
      "execution_count": null,
      "id": "productive-singer",
      "metadata": {
        "id": "productive-singer",
        "outputId": "671c30a7-5fd7-462d-8c5d-a94c6781f5b2",
        "colab": {
          "base_uri": "https://localhost:8080/"
        }
      },
      "outputs": [
        {
          "output_type": "stream",
          "name": "stdout",
          "text": [
            "Decision Tree - Original\n",
            "Feature:           Leukocytes,\t Score: 0.019 \t Actual: 0.194\n",
            "Feature:            Basophils,\t Score: 0.019 \t Actual: 0.086\n",
            "Feature: Patient age quantile,\t Score: 0.019 \t Actual: 0.069\n",
            "Feature: Red blood cell distribution width (RDW),\t Score: 0.019 \t Actual: 0.063\n",
            "Feature:          Eosinophils,\t Score: 0.019 \t Actual: 0.044\n",
            "Feature: Proteina C reativa mg/dL,\t Score: 0.019 \t Actual: 0.033\n",
            "Feature:            Monocytes,\t Score: 0.019 \t Actual: 0.031\n",
            "Feature: Mean platelet volume ,\t Score: 0.019 \t Actual: 0.016\n",
            "Feature:          Neutrophils,\t Score: 0.019 \t Actual: 0.014\n",
            "Feature:            Platelets,\t Score: 0.019 \t Actual: 0.013\n"
          ]
        }
      ],
      "source": [
        "print(\"Decision Tree - Original\")\n",
        "for i in fi[\"dt\"]:\n",
        "    print('Feature: %20s,\\t Score: %.3f \\t Actual: %.3f' % (i[\"name\"],v, i[\"value\"]))"
      ]
    },
    {
      "cell_type": "code",
      "source": [
        "print(\"Decision Tree - SMOTE\")\n",
        "for i in fi[\"dt_smote\"]:\n",
        "    print('Feature: %20s,\\t Score: %.3f \\t Actual: %.3f' % (i[\"name\"],v, i[\"value\"]))"
      ],
      "metadata": {
        "colab": {
          "base_uri": "https://localhost:8080/"
        },
        "id": "_jZrqVFMBNLe",
        "outputId": "2668f4b5-6997-4bb9-bc6d-801e37dfdbef"
      },
      "id": "_jZrqVFMBNLe",
      "execution_count": null,
      "outputs": [
        {
          "output_type": "stream",
          "name": "stdout",
          "text": [
            "Decision Tree - SMOTE\n",
            "Feature:           Leukocytes,\t Score: 0.019 \t Actual: 0.248\n",
            "Feature:          Eosinophils,\t Score: 0.019 \t Actual: 0.137\n",
            "Feature:            Basophils,\t Score: 0.019 \t Actual: 0.104\n",
            "Feature: Proteina C reativa mg/dL,\t Score: 0.019 \t Actual: 0.082\n",
            "Feature: Red blood cell distribution width (RDW),\t Score: 0.019 \t Actual: 0.081\n",
            "Feature: Mean platelet volume ,\t Score: 0.019 \t Actual: 0.050\n",
            "Feature: Patient age quantile,\t Score: 0.019 \t Actual: 0.047\n",
            "Feature:          Neutrophils,\t Score: 0.019 \t Actual: 0.029\n",
            "Feature:            Platelets,\t Score: 0.019 \t Actual: 0.023\n",
            "Feature:            Monocytes,\t Score: 0.019 \t Actual: 0.012\n"
          ]
        }
      ]
    },
    {
      "cell_type": "code",
      "execution_count": null,
      "id": "posted-framework",
      "metadata": {
        "id": "posted-framework",
        "outputId": "1dc08442-bade-4cac-e605-a93ad97a4ac7",
        "colab": {
          "base_uri": "https://localhost:8080/"
        }
      },
      "outputs": [
        {
          "output_type": "stream",
          "name": "stdout",
          "text": [
            "Random Forests - Original\n",
            "Feature:           Leukocytes,\t Score: 0.019 \t Actual: 0.088\n",
            "Feature:          Eosinophils,\t Score: 0.019 \t Actual: 0.041\n",
            "Feature:            Monocytes,\t Score: 0.019 \t Actual: 0.039\n",
            "Feature:            Platelets,\t Score: 0.019 \t Actual: 0.029\n",
            "Feature: Proteina C reativa mg/dL,\t Score: 0.019 \t Actual: 0.012\n",
            "Feature: Red blood cell distribution width (RDW),\t Score: 0.019 \t Actual: 0.010\n",
            "Feature: Patient age quantile,\t Score: 0.019 \t Actual: 0.006\n",
            "Feature: Mean platelet volume ,\t Score: 0.019 \t Actual: 0.005\n",
            "Feature:          Neutrophils,\t Score: 0.019 \t Actual: 0.004\n"
          ]
        }
      ],
      "source": [
        "print(\"Random Forests - Original\")\n",
        "for i in fi[\"rf\"]:\n",
        "    print('Feature: %20s,\\t Score: %.3f \\t Actual: %.3f' % (i[\"name\"],v, i[\"value\"]))"
      ]
    },
    {
      "cell_type": "code",
      "source": [
        "print(\"Random Forests - SMOTE\")\n",
        "for i in fi[\"rf_smote\"]:\n",
        "    print('Feature: %20s,\\t Score: %.3f \\t Actual: %.3f' % (i[\"name\"],v, i[\"value\"]))"
      ],
      "metadata": {
        "colab": {
          "base_uri": "https://localhost:8080/"
        },
        "id": "KziwYJA3BSDc",
        "outputId": "2333cab3-9120-44f4-e326-d2bad96c711f"
      },
      "id": "KziwYJA3BSDc",
      "execution_count": null,
      "outputs": [
        {
          "output_type": "stream",
          "name": "stdout",
          "text": [
            "Random Forests - SMOTE\n",
            "Feature:           Leukocytes,\t Score: 0.019 \t Actual: 0.179\n",
            "Feature:          Eosinophils,\t Score: 0.019 \t Actual: 0.056\n",
            "Feature: Patient age quantile,\t Score: 0.019 \t Actual: 0.038\n",
            "Feature:            Platelets,\t Score: 0.019 \t Actual: 0.033\n",
            "Feature: Proteina C reativa mg/dL,\t Score: 0.019 \t Actual: 0.023\n",
            "Feature: Mean platelet volume ,\t Score: 0.019 \t Actual: 0.019\n",
            "Feature:            Monocytes,\t Score: 0.019 \t Actual: 0.018\n",
            "Feature:            Basophils,\t Score: 0.019 \t Actual: 0.014\n",
            "Feature:          Neutrophils,\t Score: 0.019 \t Actual: 0.007\n",
            "Feature: Red blood cell distribution width (RDW),\t Score: 0.019 \t Actual: 0.006\n"
          ]
        }
      ]
    },
    {
      "cell_type": "code",
      "execution_count": null,
      "id": "distinct-shipping",
      "metadata": {
        "id": "distinct-shipping",
        "outputId": "290f4913-5081-4c7c-99ce-1b1cf67a4f22",
        "colab": {
          "base_uri": "https://localhost:8080/"
        }
      },
      "outputs": [
        {
          "output_type": "stream",
          "name": "stdout",
          "text": [
            "Gradient Boosted Trees - Original\n",
            "Feature:           Leukocytes,\t Score: 0.019 \t Actual: 0.105\n",
            "Feature:          Eosinophils,\t Score: 0.019 \t Actual: 0.042\n",
            "Feature:            Monocytes,\t Score: 0.019 \t Actual: 0.013\n",
            "Feature: Red blood cell distribution width (RDW),\t Score: 0.019 \t Actual: 0.013\n",
            "Feature: Proteina C reativa mg/dL,\t Score: 0.019 \t Actual: 0.012\n",
            "Feature: Mean platelet volume ,\t Score: 0.019 \t Actual: 0.010\n",
            "Feature:          Neutrophils,\t Score: 0.019 \t Actual: 0.009\n",
            "Feature:            Basophils,\t Score: 0.019 \t Actual: 0.007\n",
            "Feature:            Platelets,\t Score: 0.019 \t Actual: 0.006\n",
            "Feature: Patient age quantile,\t Score: 0.019 \t Actual: 0.005\n"
          ]
        }
      ],
      "source": [
        "print(\"Gradient Boosted Trees - Original\")\n",
        "for i in fi[\"xgbc\"]:\n",
        "    print('Feature: %20s,\\t Score: %.3f \\t Actual: %.3f' % (i[\"name\"],v, i[\"value\"]))"
      ]
    },
    {
      "cell_type": "code",
      "execution_count": null,
      "metadata": {
        "outputId": "b7cc68ff-d88f-412c-aaf7-d4dfac6f78fe",
        "colab": {
          "base_uri": "https://localhost:8080/"
        },
        "id": "X9RpjjFgBXwx"
      },
      "outputs": [
        {
          "output_type": "stream",
          "name": "stdout",
          "text": [
            "Gradient Boosted Trees - SMOTE\n",
            "Feature:           Leukocytes,\t Score: 0.019 \t Actual: 0.194\n",
            "Feature:          Eosinophils,\t Score: 0.019 \t Actual: 0.030\n",
            "Feature:            Platelets,\t Score: 0.019 \t Actual: 0.020\n",
            "Feature: Proteina C reativa mg/dL,\t Score: 0.019 \t Actual: 0.014\n",
            "Feature:            Basophils,\t Score: 0.019 \t Actual: 0.011\n",
            "Feature: Patient age quantile,\t Score: 0.019 \t Actual: 0.009\n",
            "Feature:            Monocytes,\t Score: 0.019 \t Actual: 0.009\n",
            "Feature:          Neutrophils,\t Score: 0.019 \t Actual: 0.009\n",
            "Feature: Red blood cell distribution width (RDW),\t Score: 0.019 \t Actual: 0.009\n",
            "Feature: Mean platelet volume ,\t Score: 0.019 \t Actual: 0.002\n"
          ]
        }
      ],
      "source": [
        "print(\"Gradient Boosted Trees - SMOTE\")\n",
        "for i in fi[\"xgbc_smote\"]:\n",
        "    print('Feature: %20s,\\t Score: %.3f \\t Actual: %.3f' % (i[\"name\"],v, i[\"value\"]))"
      ],
      "id": "X9RpjjFgBXwx"
    },
    {
      "cell_type": "code",
      "execution_count": null,
      "id": "current-consensus",
      "metadata": {
        "id": "current-consensus",
        "outputId": "85e298bc-c9e1-487a-857e-dbcf05d75c8b",
        "colab": {
          "base_uri": "https://localhost:8080/"
        }
      },
      "outputs": [
        {
          "output_type": "stream",
          "name": "stdout",
          "text": [
            "Logistic Regression - Original\n",
            "Feature:           Leukocytes,\t Score: 0.019 \t Actual: 0.042\n",
            "Feature: Red blood cell distribution width (RDW),\t Score: 0.019 \t Actual: 0.018\n",
            "Feature:          Eosinophils,\t Score: 0.019 \t Actual: 0.016\n",
            "Feature: Proteina C reativa mg/dL,\t Score: 0.019 \t Actual: 0.014\n",
            "Feature:            Platelets,\t Score: 0.019 \t Actual: 0.012\n",
            "Feature:            Basophils,\t Score: 0.019 \t Actual: 0.003\n",
            "Feature: Patient age quantile,\t Score: 0.019 \t Actual: 0.003\n",
            "Feature:            Monocytes,\t Score: 0.019 \t Actual: -0.001\n",
            "Feature:          Neutrophils,\t Score: 0.019 \t Actual: -0.002\n",
            "Feature: Mean platelet volume ,\t Score: 0.019 \t Actual: -0.003\n"
          ]
        }
      ],
      "source": [
        "print(\"Logistic Regression - Original\")\n",
        "for i in fi[\"lr\"]:\n",
        "    print('Feature: %20s,\\t Score: %.3f \\t Actual: %.3f' % (i[\"name\"],v, i[\"value\"]))"
      ]
    },
    {
      "cell_type": "code",
      "source": [
        "print(\"Logistic Regression - SMOTE\")\n",
        "for i in fi[\"lr_smote\"]:\n",
        "    print('Feature: %20s,\\t Score: %.3f \\t Actual: %.3f' % (i[\"name\"],v, i[\"value\"]))"
      ],
      "metadata": {
        "colab": {
          "base_uri": "https://localhost:8080/"
        },
        "id": "SSYS0tQ5Bhi-",
        "outputId": "61e89fb9-61c7-4e18-ad0a-79e884d0c5ea"
      },
      "id": "SSYS0tQ5Bhi-",
      "execution_count": null,
      "outputs": [
        {
          "output_type": "stream",
          "name": "stdout",
          "text": [
            "Logistic Regression - SMOTE\n",
            "Feature:           Leukocytes,\t Score: 0.019 \t Actual: 0.196\n",
            "Feature:          Eosinophils,\t Score: 0.019 \t Actual: 0.084\n",
            "Feature: Red blood cell distribution width (RDW),\t Score: 0.019 \t Actual: 0.075\n",
            "Feature:            Monocytes,\t Score: 0.019 \t Actual: 0.051\n",
            "Feature: Patient age quantile,\t Score: 0.019 \t Actual: 0.027\n",
            "Feature:            Platelets,\t Score: 0.019 \t Actual: 0.025\n",
            "Feature:          Neutrophils,\t Score: 0.019 \t Actual: 0.019\n",
            "Feature: Proteina C reativa mg/dL,\t Score: 0.019 \t Actual: 0.019\n",
            "Feature:            Basophils,\t Score: 0.019 \t Actual: 0.005\n",
            "Feature: Mean platelet volume ,\t Score: 0.019 \t Actual: 0.000\n"
          ]
        }
      ]
    },
    {
      "cell_type": "markdown",
      "source": [
        "# Lime"
      ],
      "metadata": {
        "id": "W0FM07vKCboT"
      },
      "id": "W0FM07vKCboT"
    },
    {
      "cell_type": "code",
      "execution_count": null,
      "metadata": {
        "id": "direct-surprise"
      },
      "outputs": [],
      "source": [
        "SMALL_SIZE = 16\n",
        "MEDIUM_SIZE = 20\n",
        "BIGGER_SIZE = 22\n",
        "\n",
        "plt.rc('font', size=SMALL_SIZE, weight='bold')          # controls default text sizes\n",
        "plt.rc('axes', titlesize=SMALL_SIZE, linewidth='3')     # fontsize of the axes title\n",
        "plt.rc('axes', labelsize=MEDIUM_SIZE)    # fontsize of the x and y labels\n",
        "plt.rc('xtick', labelsize=SMALL_SIZE)    # fontsize of the tick labels\n",
        "plt.rc('ytick', labelsize=SMALL_SIZE)    # fontsize of the tick labels\n",
        "plt.rc('legend', fontsize=SMALL_SIZE)    # legend fontsize\n",
        "plt.rc('figure', titlesize=BIGGER_SIZE)  # fontsize of the figure title"
      ],
      "id": "direct-surprise"
    },
    {
      "cell_type": "code",
      "execution_count": null,
      "metadata": {
        "id": "agreed-budapest",
        "colab": {
          "base_uri": "https://localhost:8080/"
        },
        "outputId": "bad52901-28a3-4e72-e3c4-1b865b8ad530"
      },
      "outputs": [
        {
          "output_type": "stream",
          "name": "stdout",
          "text": [
            "Collecting lime\n",
            "  Downloading lime-0.2.0.1.tar.gz (275 kB)\n",
            "\u001b[?25l\r\u001b[K     |█▏                              | 10 kB 25.0 MB/s eta 0:00:01\r\u001b[K     |██▍                             | 20 kB 29.4 MB/s eta 0:00:01\r\u001b[K     |███▋                            | 30 kB 15.3 MB/s eta 0:00:01\r\u001b[K     |████▊                           | 40 kB 11.1 MB/s eta 0:00:01\r\u001b[K     |██████                          | 51 kB 5.6 MB/s eta 0:00:01\r\u001b[K     |███████▏                        | 61 kB 6.6 MB/s eta 0:00:01\r\u001b[K     |████████▎                       | 71 kB 7.2 MB/s eta 0:00:01\r\u001b[K     |█████████▌                      | 81 kB 5.6 MB/s eta 0:00:01\r\u001b[K     |██████████▊                     | 92 kB 6.3 MB/s eta 0:00:01\r\u001b[K     |███████████▉                    | 102 kB 6.9 MB/s eta 0:00:01\r\u001b[K     |█████████████                   | 112 kB 6.9 MB/s eta 0:00:01\r\u001b[K     |██████████████▎                 | 122 kB 6.9 MB/s eta 0:00:01\r\u001b[K     |███████████████▌                | 133 kB 6.9 MB/s eta 0:00:01\r\u001b[K     |████████████████▋               | 143 kB 6.9 MB/s eta 0:00:01\r\u001b[K     |█████████████████▉              | 153 kB 6.9 MB/s eta 0:00:01\r\u001b[K     |███████████████████             | 163 kB 6.9 MB/s eta 0:00:01\r\u001b[K     |████████████████████▏           | 174 kB 6.9 MB/s eta 0:00:01\r\u001b[K     |█████████████████████▍          | 184 kB 6.9 MB/s eta 0:00:01\r\u001b[K     |██████████████████████▋         | 194 kB 6.9 MB/s eta 0:00:01\r\u001b[K     |███████████████████████▊        | 204 kB 6.9 MB/s eta 0:00:01\r\u001b[K     |█████████████████████████       | 215 kB 6.9 MB/s eta 0:00:01\r\u001b[K     |██████████████████████████▏     | 225 kB 6.9 MB/s eta 0:00:01\r\u001b[K     |███████████████████████████▍    | 235 kB 6.9 MB/s eta 0:00:01\r\u001b[K     |████████████████████████████▌   | 245 kB 6.9 MB/s eta 0:00:01\r\u001b[K     |█████████████████████████████▊  | 256 kB 6.9 MB/s eta 0:00:01\r\u001b[K     |███████████████████████████████ | 266 kB 6.9 MB/s eta 0:00:01\r\u001b[K     |████████████████████████████████| 275 kB 6.9 MB/s \n",
            "\u001b[?25hRequirement already satisfied: matplotlib in /usr/local/lib/python3.7/dist-packages (from lime) (3.2.2)\n",
            "Requirement already satisfied: numpy in /usr/local/lib/python3.7/dist-packages (from lime) (1.21.5)\n",
            "Requirement already satisfied: scipy in /usr/local/lib/python3.7/dist-packages (from lime) (1.4.1)\n",
            "Requirement already satisfied: tqdm in /usr/local/lib/python3.7/dist-packages (from lime) (4.63.0)\n",
            "Requirement already satisfied: scikit-learn>=0.18 in /usr/local/lib/python3.7/dist-packages (from lime) (1.0.2)\n",
            "Requirement already satisfied: scikit-image>=0.12 in /usr/local/lib/python3.7/dist-packages (from lime) (0.18.3)\n",
            "Requirement already satisfied: networkx>=2.0 in /usr/local/lib/python3.7/dist-packages (from scikit-image>=0.12->lime) (2.6.3)\n",
            "Requirement already satisfied: pillow!=7.1.0,!=7.1.1,>=4.3.0 in /usr/local/lib/python3.7/dist-packages (from scikit-image>=0.12->lime) (7.1.2)\n",
            "Requirement already satisfied: PyWavelets>=1.1.1 in /usr/local/lib/python3.7/dist-packages (from scikit-image>=0.12->lime) (1.3.0)\n",
            "Requirement already satisfied: imageio>=2.3.0 in /usr/local/lib/python3.7/dist-packages (from scikit-image>=0.12->lime) (2.4.1)\n",
            "Requirement already satisfied: tifffile>=2019.7.26 in /usr/local/lib/python3.7/dist-packages (from scikit-image>=0.12->lime) (2021.11.2)\n",
            "Requirement already satisfied: kiwisolver>=1.0.1 in /usr/local/lib/python3.7/dist-packages (from matplotlib->lime) (1.4.0)\n",
            "Requirement already satisfied: pyparsing!=2.0.4,!=2.1.2,!=2.1.6,>=2.0.1 in /usr/local/lib/python3.7/dist-packages (from matplotlib->lime) (3.0.7)\n",
            "Requirement already satisfied: cycler>=0.10 in /usr/local/lib/python3.7/dist-packages (from matplotlib->lime) (0.11.0)\n",
            "Requirement already satisfied: python-dateutil>=2.1 in /usr/local/lib/python3.7/dist-packages (from matplotlib->lime) (2.8.2)\n",
            "Requirement already satisfied: typing-extensions in /usr/local/lib/python3.7/dist-packages (from kiwisolver>=1.0.1->matplotlib->lime) (3.10.0.2)\n",
            "Requirement already satisfied: six>=1.5 in /usr/local/lib/python3.7/dist-packages (from python-dateutil>=2.1->matplotlib->lime) (1.15.0)\n",
            "Requirement already satisfied: joblib>=0.11 in /usr/local/lib/python3.7/dist-packages (from scikit-learn>=0.18->lime) (1.1.0)\n",
            "Requirement already satisfied: threadpoolctl>=2.0.0 in /usr/local/lib/python3.7/dist-packages (from scikit-learn>=0.18->lime) (3.1.0)\n",
            "Building wheels for collected packages: lime\n",
            "  Building wheel for lime (setup.py) ... \u001b[?25l\u001b[?25hdone\n",
            "  Created wheel for lime: filename=lime-0.2.0.1-py3-none-any.whl size=283857 sha256=228e77bae26e23ff2d197892286438b8a71f9cef561f7bf81ac109900237dfb4\n",
            "  Stored in directory: /root/.cache/pip/wheels/ca/cb/e5/ac701e12d365a08917bf4c6171c0961bc880a8181359c66aa7\n",
            "Successfully built lime\n",
            "Installing collected packages: lime\n",
            "Successfully installed lime-0.2.0.1\n"
          ]
        }
      ],
      "source": [
        "!pip install lime\n",
        "from lime import lime_tabular"
      ],
      "id": "agreed-budapest"
    },
    {
      "cell_type": "code",
      "execution_count": null,
      "metadata": {
        "id": "southwest-ethics",
        "outputId": "2bbb5437-9c76-4cab-e280-5369e98b1bcf",
        "colab": {
          "base_uri": "https://localhost:8080/"
        }
      },
      "outputs": [
        {
          "output_type": "execute_result",
          "data": {
            "text/plain": [
              "Index(['Patient age quantile', 'Platelets', 'Mean platelet volume ',\n",
              "       'Leukocytes', 'Basophils', 'Eosinophils', 'Monocytes',\n",
              "       'Red blood cell distribution width (RDW)', 'Neutrophils',\n",
              "       'Proteina C reativa mg/dL'],\n",
              "      dtype='object')"
            ]
          },
          "metadata": {},
          "execution_count": 141
        }
      ],
      "source": [
        "X_train.columns"
      ],
      "id": "southwest-ethics"
    },
    {
      "cell_type": "code",
      "execution_count": null,
      "metadata": {
        "id": "concrete-catalog"
      },
      "outputs": [],
      "source": [
        "X_train = X_train.rename(columns={\"Mean corpuscular hemoglobin concentration\\xa0(MCHC)\": \"MCHC\", \"Proteina C reativa mg/dL\": \"CRP\", \"Patient age quantile\":\"Age\"})"
      ],
      "id": "concrete-catalog"
    },
    {
      "cell_type": "code",
      "execution_count": null,
      "metadata": {
        "id": "suburban-carry",
        "outputId": "eb8c8022-b93c-43a7-e618-4b9443490795",
        "colab": {
          "base_uri": "https://localhost:8080/"
        }
      },
      "outputs": [
        {
          "output_type": "execute_result",
          "data": {
            "text/plain": [
              "Patient age quantile                       14.000000\n",
              "Platelets                                  -1.258560\n",
              "Mean platelet volume                        0.796029\n",
              "Leukocytes                                 -1.472092\n",
              "Basophils                                  -1.140144\n",
              "Eosinophils                                -0.835508\n",
              "Monocytes                                   0.961600\n",
              "Red blood cell distribution width (RDW)    -0.801985\n",
              "Neutrophils                                -0.012668\n",
              "Proteina C reativa mg/dL                    0.235598\n",
              "Name: 5111, dtype: float64"
            ]
          },
          "metadata": {},
          "execution_count": 143
        }
      ],
      "source": [
        "X_test.iloc[0]"
      ],
      "id": "suburban-carry"
    },
    {
      "cell_type": "code",
      "execution_count": null,
      "metadata": {
        "id": "specific-halloween",
        "outputId": "e6f1837d-eda5-449c-8888-634b9998f5c4",
        "colab": {
          "base_uri": "https://localhost:8080/"
        }
      },
      "outputs": [
        {
          "output_type": "execute_result",
          "data": {
            "text/plain": [
              "1"
            ]
          },
          "metadata": {},
          "execution_count": 144
        }
      ],
      "source": [
        "y_test[0]"
      ],
      "id": "specific-halloween"
    },
    {
      "cell_type": "markdown",
      "id": "hydraulic-horror",
      "metadata": {
        "id": "hydraulic-horror"
      },
      "source": [
        "**Decision Tree**"
      ]
    },
    {
      "cell_type": "code",
      "execution_count": null,
      "id": "bulgarian-groove",
      "metadata": {
        "id": "bulgarian-groove",
        "outputId": "9a089f9b-2e6f-4b37-ad30-94f252b8e0b4",
        "colab": {
          "base_uri": "https://localhost:8080/"
        }
      },
      "outputs": [
        {
          "output_type": "stream",
          "name": "stdout",
          "text": [
            "Patient id: 0\n",
            "Probability(normal) = 0.0\n",
            "True class: positive\n"
          ]
        },
        {
          "output_type": "stream",
          "name": "stderr",
          "text": [
            "/usr/local/lib/python3.7/dist-packages/sklearn/base.py:451: UserWarning: X does not have valid feature names, but DecisionTreeClassifier was fitted with feature names\n",
            "  \"X does not have valid feature names, but\"\n"
          ]
        }
      ],
      "source": [
        "idx = 0\n",
        "class_names = ['negative', 'positive']\n",
        "\n",
        "print('Patient id: %d' % idx)\n",
        "print('Probability(normal) =', dt.predict_proba(np.array(X_test)[idx, :].reshape(1, -1))[0][0])\n",
        "print('True class: %s' % class_names[y_test[idx]])"
      ]
    },
    {
      "cell_type": "code",
      "execution_count": null,
      "id": "pretty-trust",
      "metadata": {
        "id": "pretty-trust"
      },
      "outputs": [],
      "source": [
        "explainer = lime_tabular.LimeTabularExplainer(np.array(X_train),  mode='classification',\n",
        "                                              feature_names= X_train.columns, class_names = class_names)\n",
        "exp = explainer.explain_instance(np.array(X_test)[idx, :], predict_fn = xgbc.predict_proba, num_features = 5)"
      ]
    },
    {
      "cell_type": "code",
      "execution_count": null,
      "id": "european-extraction",
      "metadata": {
        "scrolled": false,
        "id": "european-extraction",
        "outputId": "4bfa94d5-89d9-42da-fce4-13edd18b2333",
        "colab": {
          "base_uri": "https://localhost:8080/",
          "height": 288
        }
      },
      "outputs": [
        {
          "output_type": "display_data",
          "data": {
            "text/plain": [
              "<Figure size 432x288 with 1 Axes>"
            ],
            "image/png": "[encoded data removed]"
          },
          "metadata": {
            "needs_background": "light"
          }
        }
      ],
      "source": [
        "%matplotlib inline\n",
        "fig = exp.as_pyplot_figure()"
      ]
    },
    {
      "cell_type": "markdown",
      "id": "daily-toolbox",
      "metadata": {
        "id": "daily-toolbox"
      },
      "source": [
        "**Random Forest**"
      ]
    },
    {
      "cell_type": "code",
      "execution_count": null,
      "id": "addressed-laptop",
      "metadata": {
        "id": "addressed-laptop",
        "outputId": "61f1384f-ea59-4e5d-9fe5-33cbb047042f",
        "colab": {
          "base_uri": "https://localhost:8080/"
        }
      },
      "outputs": [
        {
          "output_type": "stream",
          "name": "stdout",
          "text": [
            "Patient id: 0\n",
            "Probability(normal) = 0.32\n",
            "True class: positive\n"
          ]
        },
        {
          "output_type": "stream",
          "name": "stderr",
          "text": [
            "/usr/local/lib/python3.7/dist-packages/sklearn/base.py:451: UserWarning: X does not have valid feature names, but RandomForestClassifier was fitted with feature names\n",
            "  \"X does not have valid feature names, but\"\n"
          ]
        }
      ],
      "source": [
        "idx = 0\n",
        "class_names = ['negative', 'positive']\n",
        "\n",
        "print('Patient id: %d' % idx)\n",
        "print('Probability(normal) =', rf.predict_proba(np.array(X_test)[idx, :].reshape(1, -1))[0][0])\n",
        "print('True class: %s' % class_names[y_test[idx]])"
      ]
    },
    {
      "cell_type": "code",
      "execution_count": null,
      "id": "stainless-regular",
      "metadata": {
        "id": "stainless-regular",
        "colab": {
          "base_uri": "https://localhost:8080/"
        },
        "outputId": "4915fae0-f689-4e65-b40e-74cef1569e95"
      },
      "outputs": [
        {
          "output_type": "stream",
          "name": "stderr",
          "text": [
            "/usr/local/lib/python3.7/dist-packages/sklearn/base.py:451: UserWarning: X does not have valid feature names, but RandomForestClassifier was fitted with feature names\n",
            "  \"X does not have valid feature names, but\"\n"
          ]
        }
      ],
      "source": [
        "explainer = lime_tabular.LimeTabularExplainer(np.array(X_train), \n",
        "                                              feature_names= X_train.columns, class_names = class_names, \n",
        "                                              discretize_continuous=True)\n",
        "exp = explainer.explain_instance(np.array(X_test)[idx, :], predict_fn = rf.predict_proba, num_features = 5)"
      ]
    },
    {
      "cell_type": "code",
      "execution_count": null,
      "id": "aggressive-juice",
      "metadata": {
        "id": "aggressive-juice",
        "outputId": "51191b2a-889e-4b23-e231-01f268a5e8d1",
        "colab": {
          "base_uri": "https://localhost:8080/",
          "height": 288
        }
      },
      "outputs": [
        {
          "output_type": "display_data",
          "data": {
            "text/plain": [
              "<Figure size 432x288 with 1 Axes>"
            ],
            "image/png": "[encoded data removed]"
          },
          "metadata": {
            "needs_background": "light"
          }
        }
      ],
      "source": [
        "%matplotlib inline\n",
        "fig = exp.as_pyplot_figure()"
      ]
    },
    {
      "cell_type": "markdown",
      "id": "russian-namibia",
      "metadata": {
        "id": "russian-namibia"
      },
      "source": [
        "**XGBC**"
      ]
    },
    {
      "cell_type": "code",
      "execution_count": null,
      "id": "assured-whole",
      "metadata": {
        "id": "assured-whole",
        "outputId": "9b90e4c1-370f-4715-ddea-a200477aaa06",
        "colab": {
          "base_uri": "https://localhost:8080/"
        }
      },
      "outputs": [
        {
          "output_type": "stream",
          "name": "stdout",
          "text": [
            "Patient id: 0\n",
            "Probability(normal) = 0.07522613\n",
            "True class: positive\n"
          ]
        }
      ],
      "source": [
        "idx = 0\n",
        "class_names = ['negative', 'positive']\n",
        "\n",
        "print('Patient id: %d' % idx)\n",
        "print('Probability(normal) =', xgbc.predict_proba(np.array(X_test)[idx, :].reshape(1, -1))[0][0])\n",
        "print('True class: %s' % class_names[y_test[idx]])"
      ]
    },
    {
      "cell_type": "code",
      "execution_count": null,
      "id": "weird-mouse",
      "metadata": {
        "id": "weird-mouse"
      },
      "outputs": [],
      "source": [
        "explainer = lime_tabular.LimeTabularExplainer(np.array(X_train),  mode='classification',\n",
        "                                              feature_names= X_train.columns, class_names = class_names)\n",
        "exp = explainer.explain_instance(np.array(X_test)[idx, :], predict_fn = xgbc.predict_proba, num_features = 5)"
      ]
    },
    {
      "cell_type": "code",
      "execution_count": null,
      "id": "ordered-ceremony",
      "metadata": {
        "scrolled": false,
        "id": "ordered-ceremony",
        "outputId": "2f22570a-26cf-4a95-bb28-9deb8f870298",
        "colab": {
          "base_uri": "https://localhost:8080/",
          "height": 288
        }
      },
      "outputs": [
        {
          "output_type": "display_data",
          "data": {
            "text/plain": [
              "<Figure size 432x288 with 1 Axes>"
            ],
            "image/png": "[encoded data removed]"
          },
          "metadata": {
            "needs_background": "light"
          }
        }
      ],
      "source": [
        "%matplotlib inline\n",
        "fig = exp.as_pyplot_figure()"
      ]
    },
    {
      "cell_type": "markdown",
      "id": "dirty-lexington",
      "metadata": {
        "id": "dirty-lexington"
      },
      "source": [
        "**Logistic Regression**"
      ]
    },
    {
      "cell_type": "code",
      "execution_count": null,
      "id": "insured-toilet",
      "metadata": {
        "scrolled": true,
        "id": "insured-toilet",
        "outputId": "ba0d48c5-a89e-4558-87e4-7bb0be23280c",
        "colab": {
          "base_uri": "https://localhost:8080/"
        }
      },
      "outputs": [
        {
          "output_type": "stream",
          "name": "stdout",
          "text": [
            "Patient id: 0\n",
            "Probability(normal) = 0.06989898290177532\n",
            "True class: positive\n"
          ]
        },
        {
          "output_type": "stream",
          "name": "stderr",
          "text": [
            "/usr/local/lib/python3.7/dist-packages/sklearn/base.py:451: UserWarning: X does not have valid feature names, but LogisticRegression was fitted with feature names\n",
            "  \"X does not have valid feature names, but\"\n"
          ]
        }
      ],
      "source": [
        "idx = 0\n",
        "class_names = ['negative', 'positive']\n",
        "\n",
        "print('Patient id: %d' % idx)\n",
        "print('Probability(normal) =', lr.predict_proba(np.array(X_test)[idx, :].reshape(1, -1))[0][0])\n",
        "print('True class: %s' % class_names[y_test[idx]])"
      ]
    },
    {
      "cell_type": "code",
      "execution_count": null,
      "id": "blank-playback",
      "metadata": {
        "scrolled": true,
        "id": "blank-playback",
        "outputId": "5ba09b05-5d90-4710-aae5-de73c8b22f7a",
        "colab": {
          "base_uri": "https://localhost:8080/"
        }
      },
      "outputs": [
        {
          "output_type": "stream",
          "name": "stderr",
          "text": [
            "/usr/local/lib/python3.7/dist-packages/sklearn/base.py:451: UserWarning: X does not have valid feature names, but LogisticRegression was fitted with feature names\n",
            "  \"X does not have valid feature names, but\"\n"
          ]
        }
      ],
      "source": [
        "explainer = lime_tabular.LimeTabularExplainer(np.array(X_train),  mode='classification',\n",
        "                                              feature_names= X_train.columns, class_names = class_names)\n",
        "exp = explainer.explain_instance(np.array(X_test)[idx, :], predict_fn = lr.predict_proba, num_features = 5)"
      ]
    },
    {
      "cell_type": "code",
      "execution_count": null,
      "id": "according-expert",
      "metadata": {
        "id": "according-expert",
        "outputId": "567e7d8b-fb5a-448e-8a53-85983b542035",
        "colab": {
          "base_uri": "https://localhost:8080/",
          "height": 288
        }
      },
      "outputs": [
        {
          "output_type": "display_data",
          "data": {
            "text/plain": [
              "<Figure size 432x288 with 1 Axes>"
            ],
            "image/png": "[encoded data removed]"
          },
          "metadata": {
            "needs_background": "light"
          }
        }
      ],
      "source": [
        "%matplotlib inline\n",
        "fig = exp.as_pyplot_figure()"
      ]
    }
  ],
  "metadata": {
    "kernelspec": {
      "display_name": "Python 3",
      "language": "python",
      "name": "python3"
    },
    "language_info": {
      "codemirror_mode": {
        "name": "ipython",
        "version": 3
      },
      "file_extension": ".py",
      "mimetype": "text/x-python",
      "name": "python",
      "nbconvert_exporter": "python",
      "pygments_lexer": "ipython3",
      "version": "3.8.5"
    },
    "colab": {
      "name": "covid_19_kaggle_dev.ipynb",
      "provenance": [],
      "collapsed_sections": [
        "dramatic-entrance"
      ],
      "include_colab_link": true
    }
  },
  "nbformat": 4,
  "nbformat_minor": 5
}